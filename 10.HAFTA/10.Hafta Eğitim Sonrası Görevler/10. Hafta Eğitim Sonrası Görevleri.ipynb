{
 "cells": [
  {
   "attachments": {},
   "cell_type": "markdown",
   "metadata": {},
   "source": [
    "# Problem 1 "
   ]
  },
  {
   "cell_type": "code",
   "execution_count": 16,
   "metadata": {},
   "outputs": [
    {
     "name": "stdout",
     "output_type": "stream",
     "text": [
      "[   5    8   62   95  297 8564]\n"
     ]
    }
   ],
   "source": [
    "# 1 - numpy kütüphanesini import edin\n",
    "import numpy as np\n",
    "# 2 - 5 elemanlı bir numpy array oluşturun\n",
    "a = np.array([8,5,95,62,8564,297])\n",
    "# 3 - Oluşturduğunuz arrayi küçükten büyüğe sıralayın.\n",
    "print(np.sort(a))"
   ]
  },
  {
   "attachments": {},
   "cell_type": "markdown",
   "metadata": {},
   "source": [
    "# Problem 2"
   ]
  },
  {
   "cell_type": "code",
   "execution_count": 21,
   "metadata": {},
   "outputs": [
    {
     "name": "stdout",
     "output_type": "stream",
     "text": [
      "[10 15 30 45 60]\n",
      "[ 5.          5.20408163  5.40816327  5.6122449   5.81632653  6.02040816\n",
      "  6.2244898   6.42857143  6.63265306  6.83673469  7.04081633  7.24489796\n",
      "  7.44897959  7.65306122  7.85714286  8.06122449  8.26530612  8.46938776\n",
      "  8.67346939  8.87755102  9.08163265  9.28571429  9.48979592  9.69387755\n",
      "  9.89795918 10.10204082 10.30612245 10.51020408 10.71428571 10.91836735\n",
      " 11.12244898 11.32653061 11.53061224 11.73469388 11.93877551 12.14285714\n",
      " 12.34693878 12.55102041 12.75510204 12.95918367 13.16326531 13.36734694\n",
      " 13.57142857 13.7755102  13.97959184 14.18367347 14.3877551  14.59183673\n",
      " 14.79591837 15.        ]\n",
      "[50 55 60 65 70 75 80 85 90 95]\n",
      "[0. 0. 0. 0. 0. 0. 0. 0. 0. 0.]\n",
      "[1. 1. 1. 1. 1. 1. 1. 1. 1. 1.]\n",
      "[  0.  25.  50.  75. 100.]\n",
      "[12 17 12 15 30]\n",
      "[-0.68193598 -0.73480221  0.65904305  0.33585487 -0.60755697  0.49674625\n",
      " -0.94786177  0.93267231 -0.44445188  0.03549409]\n",
      "[113  78 104  81 103]\n",
      "[144 186 149]\n",
      "47\n",
      "16\n",
      "31.933333333333334\n",
      "9\n",
      "[13 16 18]\n",
      "[18 18 11 10 16 12 18 13]\n",
      "[44 16 34 30 20]\n",
      "25\n",
      "[44 35 34]\n",
      "[[1936  256 1156  900  400]\n",
      " [1225 2116  625 1089 2209]\n",
      " [1156  256 2025  324 1296]]\n",
      "[]\n"
     ]
    }
   ],
   "source": [
    "# 1- (10,15,30,45,60) değerlerine sahip numpy dizisi oluşturunuz.\n",
    "sayilar = np.array([10,15,30,45,60])\n",
    "print(sayilar)\n",
    "\n",
    "# 2- (5-15) arasındaki sayılarla numpy dizisi oluşturunuz.\n",
    "sayilar2 = np.linspace(5,15)\n",
    "print(sayilar2)\n",
    "# 3- (50-100) arasında 5'er 5'er artarak numpy dizisi oluşturunuz.\n",
    "sayilar3 =np.arange(50,100,5)\n",
    "print(sayilar3)\n",
    "# 4- 10 elemanlı sıfırlardan oluşan bir dizi oluşturunuz.\n",
    "sayilar4 = np.zeros(10)\n",
    "print(sayilar4)\n",
    "# 5- 10 elemanlı birlerden oluşan bir dizi oluşturunuz.\n",
    "sayilar5 = np.ones(10)\n",
    "print(sayilar5)\n",
    "# 6- (0-100) arasında eşit aralıklı 5 sayı üretin.\n",
    "sayilar6 = np.linspace(0,100,5)\n",
    "print(sayilar6)\n",
    "# 7- (10-30) arasında rastgele 5 tane tamsayı üretin.\n",
    "sayilar7 = np.random.randint(10,31,size=5)\n",
    "print(sayilar7)\n",
    "# 8- [-1 ile 1] arasında 10 adet sayı üretin.\n",
    "sayilar8 = np.random.uniform(-1,1,size=10)\n",
    "print(sayilar8)\n",
    "# 9- (3x5) boyutlarında (10-50) arasında rastgele bir matris oluşturunuz.\n",
    "sayilar9 = np.random.randint(10,50, size=(3,5))\n",
    "\n",
    "\n",
    "# 10- Üretilen matrisin satır ve sütun sayıları toplamlarını hesaplayınız ?\n",
    "print(sayilar9.sum(axis=0))\n",
    "print(sayilar9.sum(axis=1))\n",
    "\n",
    "\n",
    "# 11- Üretilen matrisin en büyük, en küçük ve ortalaması nedir ?\n",
    "print(sayilar9.max())\n",
    "print(sayilar9.min())\n",
    "print(sayilar9.mean())\n",
    "# 12- Üretilen matrisin en büyük değerinin indeksi kaçtır ?\n",
    "print(sayilar9.argmax())\n",
    "\n",
    "# 13- (10-20) arasındaki sayıları içeren dizinin ilk 3 elemanını seçiniz.\n",
    "sayilar10 = np.random.randint(10,20,size=8)\n",
    "print(sayilar10[::3])\n",
    "# 14- Üretilen dizinin elemanlarını tersten yazdırın.\n",
    "print(sayilar10[::-1])\n",
    "\n",
    "# 15- Üretilen matrisin ilk satırını seçiniz.\n",
    "print(sayilar9[0])\n",
    "\n",
    "# 16- Üretilen matrisin 2.satır 3.sütundaki elemanı hangisidir ?\n",
    "print(sayilar9[1,2])\n",
    "\n",
    "# 17- Üretilen matrisin tüm satırlardaki ilk elemanı seçiniz.\n",
    "print(sayilar9[:,0])\n",
    "\n",
    "# 18- Üretilen matrisin her bir elemanının karesini alınız.\n",
    "print(sayilar9**2)\n",
    "\n",
    "# 19- Üretilen matris elemanlarının hangisi pozitif çift sayıdır ? Aralığı (-50,+50) arasında yapınız.\n",
    "sayilar11 = np.random.uniform(-50,50, size = (3,5))\n",
    "print(sayilar11[(sayilar11 % 2 == 0) & (sayilar11 > 0)])"
   ]
  }
 ],
 "metadata": {
  "kernelspec": {
   "display_name": "Python 3",
   "language": "python",
   "name": "python3"
  },
  "language_info": {
   "codemirror_mode": {
    "name": "ipython",
    "version": 3
   },
   "file_extension": ".py",
   "mimetype": "text/x-python",
   "name": "python",
   "nbconvert_exporter": "python",
   "pygments_lexer": "ipython3",
   "version": "3.11.3"
  },
  "orig_nbformat": 4,
  "vscode": {
   "interpreter": {
    "hash": "5026d2d6e7aaaaba093def813beadff083d8733e4a511af01735cbabd156995d"
   }
  }
 },
 "nbformat": 4,
 "nbformat_minor": 2
}
