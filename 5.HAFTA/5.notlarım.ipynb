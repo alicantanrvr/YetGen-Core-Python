{
 "cells": [
  {
   "attachments": {},
   "cell_type": "markdown",
   "metadata": {},
   "source": [
    "# List Comprehensiom\n",
    "* liste işlemlerinde kodu uzun uzun yazmak yerine tek bir satırda düzeltme imkanı verir."
   ]
  },
  {
   "cell_type": "code",
   "execution_count": 1,
   "metadata": {},
   "outputs": [
    {
     "name": "stdout",
     "output_type": "stream",
     "text": [
      "[1, 4, 9, 16, 25, 36, 49, 64, 81, 100]\n"
     ]
    }
   ],
   "source": [
    "liste = [1,2,3,4,5,6,7,8,9,10]\n",
    "yeniListe = []\n",
    "for i in liste:\n",
    "    yeniListe.append(i * i)\n",
    "print(yeniListe)"
   ]
  },
  {
   "cell_type": "code",
   "execution_count": 2,
   "metadata": {},
   "outputs": [
    {
     "name": "stdout",
     "output_type": "stream",
     "text": [
      "[1, 4, 9, 16, 25, 36, 49, 64, 81, 100]\n"
     ]
    }
   ],
   "source": [
    "liste = [1,2,3,4,5,6,7,8,9,10]\n",
    "yeniListe = [i * i for i in liste]\n",
    "\n",
    "print(yeniListe)"
   ]
  },
  {
   "cell_type": "code",
   "execution_count": 2,
   "metadata": {},
   "outputs": [
    {
     "ename": "TypeError",
     "evalue": "'int' object is not iterable",
     "output_type": "error",
     "traceback": [
      "\u001b[1;31m---------------------------------------------------------------------------\u001b[0m",
      "\u001b[1;31mTypeError\u001b[0m                                 Traceback (most recent call last)",
      "Cell \u001b[1;32mIn[2], line 2\u001b[0m\n\u001b[0;32m      1\u001b[0m liste \u001b[39m=\u001b[39m [\u001b[39m1\u001b[39m,\u001b[39m2\u001b[39m,\u001b[39m3\u001b[39m,\u001b[39m4\u001b[39m,[\u001b[39m5\u001b[39m,\u001b[39m6\u001b[39m,\u001b[39m7\u001b[39m,\u001b[39m8\u001b[39m,\u001b[39m9\u001b[39m],[\u001b[39m10\u001b[39m,\u001b[39m11\u001b[39m,\u001b[39m12\u001b[39m]]\n\u001b[1;32m----> 2\u001b[0m liste2 \u001b[39m=\u001b[39m [x \u001b[39mfor\u001b[39;49;00m i \u001b[39min\u001b[39;49;00m liste \u001b[39mfor\u001b[39;49;00m x \u001b[39min\u001b[39;49;00m i]\n\u001b[0;32m      4\u001b[0m \u001b[39mprint\u001b[39m(liste2)\n",
      "Cell \u001b[1;32mIn[2], line 2\u001b[0m, in \u001b[0;36m<listcomp>\u001b[1;34m(.0)\u001b[0m\n\u001b[0;32m      1\u001b[0m liste \u001b[39m=\u001b[39m [\u001b[39m1\u001b[39m,\u001b[39m2\u001b[39m,\u001b[39m3\u001b[39m,\u001b[39m4\u001b[39m,[\u001b[39m5\u001b[39m,\u001b[39m6\u001b[39m,\u001b[39m7\u001b[39m,\u001b[39m8\u001b[39m,\u001b[39m9\u001b[39m],[\u001b[39m10\u001b[39m,\u001b[39m11\u001b[39m,\u001b[39m12\u001b[39m]]\n\u001b[1;32m----> 2\u001b[0m liste2 \u001b[39m=\u001b[39m [x \u001b[39mfor\u001b[39;00m i \u001b[39min\u001b[39;00m liste \u001b[39mfor\u001b[39;00m x \u001b[39min\u001b[39;00m i]\n\u001b[0;32m      4\u001b[0m \u001b[39mprint\u001b[39m(liste2)\n",
      "\u001b[1;31mTypeError\u001b[0m: 'int' object is not iterable"
     ]
    }
   ],
   "source": [
    "liste = [1,2,3,4,[5,6,7,8,9],[10,11,12]]\n",
    "liste2 = [x for i in liste for x in i]\n",
    "\n",
    "print(liste2)"
   ]
  },
  {
   "cell_type": "code",
   "execution_count": 3,
   "metadata": {},
   "outputs": [
    {
     "ename": "TypeError",
     "evalue": "'int' object is not iterable",
     "output_type": "error",
     "traceback": [
      "\u001b[1;31m---------------------------------------------------------------------------\u001b[0m",
      "\u001b[1;31mTypeError\u001b[0m                                 Traceback (most recent call last)",
      "Cell \u001b[1;32mIn[3], line 2\u001b[0m\n\u001b[0;32m      1\u001b[0m \u001b[39mfor\u001b[39;00m i \u001b[39min\u001b[39;00m liste:\n\u001b[1;32m----> 2\u001b[0m     \u001b[39mfor\u001b[39;00m x \u001b[39min\u001b[39;00m i:\n\u001b[0;32m      3\u001b[0m         \u001b[39mprint\u001b[39m(x)\n",
      "\u001b[1;31mTypeError\u001b[0m: 'int' object is not iterable"
     ]
    }
   ],
   "source": [
    "for i in liste:\n",
    "    for x in i:\n",
    "        print(x)\n"
   ]
  },
  {
   "cell_type": "code",
   "execution_count": 13,
   "metadata": {},
   "outputs": [
    {
     "name": "stdout",
     "output_type": "stream",
     "text": [
      "[1, 2, 3, 5, 6, 8, 9, 10]\n"
     ]
    }
   ],
   "source": [
    "liste1 = [1,2,3,4,5,6,7,8,9,10]\n",
    "liste2 = [i for i in liste1 if not (i == 4 or i == 7)]\n",
    "\n",
    "print(liste2)"
   ]
  },
  {
   "attachments": {},
   "cell_type": "markdown",
   "metadata": {},
   "source": [
    "# FONKSİYONLAR\n",
    "* bir kodu bir çok yerde kullanmamız gerekiyorsa, tekrar yazmayı önler. proglamlamanın temeli : DRY( Don't Repeat Yourself)\n",
    "* fonksiyonun içindeki değişkenler yereldir, yeni bir fonksiyon içinde tanımlandığında, o değişkeni fonksiyonun dışına çağrılamaz. Çünkü o değişkem o fonksiyona özeldir ve globalde kullanılmaz.\n",
    "* ne zaman bir fonksiyon çağrılırsa, fonksiyonu yazdıktan sonra yapmalısınız.\n",
    "* fonksiyon tanımlama :\n",
    "\n",
    "def fonksiyonun_adı(parametre1, parametre2...  (opsiyonel)):\n",
    "    fonksiyon bloğu\n",
    "    Yapılacak işlemler\n",
    "    dönüş değeri - opsiyonel\n",
    "\n",
    "\n",
    "* tanımlanan bir fonksiyonun kullanılmasına proglamlama dillerinde \"fonksiyon çağrısı\" denmektedir. "
   ]
  },
  {
   "cell_type": "code",
   "execution_count": 17,
   "metadata": {},
   "outputs": [
    {
     "name": "stdout",
     "output_type": "stream",
     "text": [
      "merhaba\n",
      "merhaba\n"
     ]
    }
   ],
   "source": [
    "def selamla():\n",
    "    print(\"merhaba\")\n",
    "\n",
    "selamla()\n",
    "selamla()"
   ]
  },
  {
   "attachments": {},
   "cell_type": "markdown",
   "metadata": {},
   "source": [
    "# Argüman\n",
    "* işlev çağrılırken parantez içindeki işlevlere iletilen değerler( string, number, vb) \n",
    "* eğer fonksiyon çağrılırken bir argüman yoksa, bu argümanın değeri None olacaktır. bu nedenle fonksiyonun içinde ifade edilecek bir depğer yoksa, belirlenen değer kullanılmalıdır.\n",
    "\n",
    "* birden fazla parametre olabilir her biri virgülle ayrılır.\n",
    " "
   ]
  },
  {
   "cell_type": "code",
   "execution_count": 18,
   "metadata": {},
   "outputs": [
    {
     "name": "stdout",
     "output_type": "stream",
     "text": [
      "('merhaba', 'ziyaretçi')\n",
      "('merhaba', 'Alican')\n"
     ]
    }
   ],
   "source": [
    "def helloWorld(name = \"ziyaretçi\"):\n",
    "    print((\"merhaba\", name))\n",
    "\n",
    "helloWorld()\n",
    "helloWorld(\"Alican\")"
   ]
  },
  {
   "cell_type": "code",
   "execution_count": 19,
   "metadata": {},
   "outputs": [
    {
     "name": "stdout",
     "output_type": "stream",
     "text": [
      "18\n"
     ]
    }
   ],
   "source": [
    "def topla(sayi1, sayi2, sayi3):\n",
    "    toplam = (sayi1 + sayi2 + sayi3)\n",
    "    print(toplam)\n",
    "\n",
    "topla(5,6,7)"
   ]
  },
  {
   "cell_type": "code",
   "execution_count": 23,
   "metadata": {},
   "outputs": [
    {
     "ename": "TypeError",
     "evalue": "bad operand type for unary +: 'str'",
     "output_type": "error",
     "traceback": [
      "\u001b[1;31m---------------------------------------------------------------------------\u001b[0m",
      "\u001b[1;31mTypeError\u001b[0m                                 Traceback (most recent call last)",
      "Cell \u001b[1;32mIn[23], line 5\u001b[0m\n\u001b[0;32m      1\u001b[0m \u001b[39mdef\u001b[39;00m \u001b[39mmerhaba\u001b[39m(name \u001b[39m=\u001b[39m \u001b[39m\"\u001b[39m\u001b[39mAsya\u001b[39m\u001b[39m\"\u001b[39m, surname \u001b[39m=\u001b[39m \u001b[39m\"\u001b[39m\u001b[39msezer\u001b[39m\u001b[39m\"\u001b[39m):\n\u001b[0;32m      2\u001b[0m     \u001b[39mprint\u001b[39m(\u001b[39m\"\u001b[39m\u001b[39mhoşgeldin\u001b[39m\u001b[39m\"\u001b[39m, \u001b[39m+\u001b[39m name \u001b[39m+\u001b[39m \u001b[39m\"\u001b[39m\u001b[39m \u001b[39m\u001b[39m\"\u001b[39m \u001b[39m+\u001b[39m surname)\n\u001b[1;32m----> 5\u001b[0m merhaba()\n\u001b[0;32m      6\u001b[0m merhaba(\u001b[39m\"\u001b[39m\u001b[39mseda\u001b[39m\u001b[39m\"\u001b[39m)\n\u001b[0;32m      7\u001b[0m merhaba(\u001b[39m\"\u001b[39m\u001b[39mseda\u001b[39m\u001b[39m\"\u001b[39m, \u001b[39m\"\u001b[39m\u001b[39merdem\u001b[39m\u001b[39m\"\u001b[39m)\n",
      "Cell \u001b[1;32mIn[23], line 2\u001b[0m, in \u001b[0;36mmerhaba\u001b[1;34m(name, surname)\u001b[0m\n\u001b[0;32m      1\u001b[0m \u001b[39mdef\u001b[39;00m \u001b[39mmerhaba\u001b[39m(name \u001b[39m=\u001b[39m \u001b[39m\"\u001b[39m\u001b[39mAsya\u001b[39m\u001b[39m\"\u001b[39m, surname \u001b[39m=\u001b[39m \u001b[39m\"\u001b[39m\u001b[39msezer\u001b[39m\u001b[39m\"\u001b[39m):\n\u001b[1;32m----> 2\u001b[0m     \u001b[39mprint\u001b[39m(\u001b[39m\"\u001b[39m\u001b[39mhoşgeldin\u001b[39m\u001b[39m\"\u001b[39m, \u001b[39m+\u001b[39;49m name \u001b[39m+\u001b[39m \u001b[39m\"\u001b[39m\u001b[39m \u001b[39m\u001b[39m\"\u001b[39m \u001b[39m+\u001b[39m surname)\n",
      "\u001b[1;31mTypeError\u001b[0m: bad operand type for unary +: 'str'"
     ]
    }
   ],
   "source": [
    "def merhaba(name = \"Asya\", surname = \"sezer\"):\n",
    "    print(\"hoşgeldin\", + name + \" \" + surname)\n",
    "    \n",
    "    \n",
    "merhaba()\n",
    "merhaba(\"seda\")\n",
    "merhaba(\"seda\" , \"erdem\")\n",
    "\n"
   ]
  },
  {
   "cell_type": "code",
   "execution_count": 25,
   "metadata": {},
   "outputs": [
    {
     "name": "stdout",
     "output_type": "stream",
     "text": [
      "60\n",
      "12\n",
      "3\n"
     ]
    }
   ],
   "source": [
    "def carp(sayi1 = 1, sayi2 = 1, sayi3 = 1):\n",
    "    sonuc = sayi1 * sayi2 * sayi3\n",
    "    print(sonuc)\n",
    "carp(3,4,5)\n",
    "carp(3,4)\n",
    "carp(3)"
   ]
  },
  {
   "cell_type": "code",
   "execution_count": 27,
   "metadata": {},
   "outputs": [
    {
     "name": "stdout",
     "output_type": "stream",
     "text": [
      "hola\n",
      "bonjour\n",
      "hello\n",
      "merhaba\n"
     ]
    }
   ],
   "source": [
    "def merhaba(dil):\n",
    "    if dil == \"es\":\n",
    "        print(\"hola\")\n",
    "    elif dil == \"fr\":\n",
    "        print(\"bonjour\")\n",
    "    elif dil == \"en\":\n",
    "        print(\"hello\")\n",
    "    else:\n",
    "        print(\"merhaba\")\n",
    "merhaba(\"es\")\n",
    "merhaba(\"fr\")\n",
    "merhaba(\"en\")\n",
    "merhaba(\"tr\")"
   ]
  },
  {
   "attachments": {},
   "cell_type": "markdown",
   "metadata": {},
   "source": [
    "# Return\n",
    "* kodun tamamında kullanmak için işlevin kodu tamamlandıktan sonra kalan değeri (sonuç değeri) döndürür.\n",
    "* \"return\" anahtar sözcüğünden sonraki kodlar yürütülmez. bu görmezden gelindikleri anlamına gelir.\n",
    "* return yardımıyla fonksiyonlar değerleri çağrıldığı yere döndürülebilir ve biz de bu değerleri istediğimiz yerde kullanabiliriz.\n"
   ]
  },
  {
   "cell_type": "code",
   "execution_count": 29,
   "metadata": {},
   "outputs": [
    {
     "name": "stdout",
     "output_type": "stream",
     "text": [
      "30\n"
     ]
    }
   ],
   "source": [
    "def dikdortgenAlan(a,b):\n",
    "    return(a * b)\n",
    "print(dikdortgenAlan(5,6))"
   ]
  },
  {
   "attachments": {},
   "cell_type": "markdown",
   "metadata": {},
   "source": [
    "# *args\n",
    "* sınırsız sayıda parametreli fonksiyon oluşturmak için parametremizin öüne tek (*) koyabiliriz.\n",
    "* isimsizdir\n",
    "\n"
   ]
  },
  {
   "cell_type": "code",
   "execution_count": 30,
   "metadata": {},
   "outputs": [
    {
     "name": "stdout",
     "output_type": "stream",
     "text": [
      "(5,)\n",
      "(4, 5, 6, 7, 8, 9, 10, 11)\n"
     ]
    }
   ],
   "source": [
    "def sayilar(*x):\n",
    "    print(x)\n",
    "sayilar(5)\n",
    "sayilar(4,5,6,7,8,9,10,11)"
   ]
  },
  {
   "cell_type": "code",
   "execution_count": 34,
   "metadata": {},
   "outputs": [
    {
     "name": "stdout",
     "output_type": "stream",
     "text": [
      "55\n"
     ]
    }
   ],
   "source": [
    "def topla(*x):\n",
    "    toplam = 0\n",
    "    for i in x:\n",
    "        toplam += i\n",
    "    print(toplam)\n",
    "topla(1,2,3,4,5,6,7,8,9,10)"
   ]
  },
  {
   "attachments": {},
   "cell_type": "markdown",
   "metadata": {},
   "source": [
    "# ** kwargs\n",
    "* anahtar değer ilişkisiyleyle çağrılır\n",
    "* isimli argümandır\n"
   ]
  },
  {
   "cell_type": "code",
   "execution_count": 35,
   "metadata": {},
   "outputs": [
    {
     "name": "stdout",
     "output_type": "stream",
     "text": [
      "{'name': 'erdem', 'surname': 'uçar', 'age': 20}\n"
     ]
    }
   ],
   "source": [
    "def kimlikGoster(**kimlik):\n",
    "    print(kimlik)\n",
    "kimlikGoster( name = \"erdem\", surname = \"uçar\", age = 20)"
   ]
  },
  {
   "cell_type": "code",
   "execution_count": 36,
   "metadata": {},
   "outputs": [
    {
     "name": "stdout",
     "output_type": "stream",
     "text": [
      "10\n",
      "(20, 30, 40, 50)\n",
      "8\n",
      "{'name': 'erdem', 'surname': 'uçar', 'age': 20}\n"
     ]
    }
   ],
   "source": [
    "def ornek(a, *sayilar, b, **kimlik):\n",
    "    print(a)\n",
    "    print(sayilar)\n",
    "    print(b)\n",
    "    print(kimlik)\n",
    "\n",
    "ornek(10,20,30,40,50, b = 8, name = \"erdem\", surname = \"uçar\", age = 20)\n"
   ]
  },
  {
   "attachments": {},
   "cell_type": "markdown",
   "metadata": {},
   "source": [
    "# Pass Deyimi\n",
    "* pythonda pas ifadesi null değer atama için ullanılır. pythondaki bir açıklama ve geçiş ifadesi arasındaki fark, yorumlayıcı bir yorumu tamamen yok sayarken, geçişin göz ardı edilmesidir."
   ]
  },
  {
   "cell_type": "code",
   "execution_count": 37,
   "metadata": {},
   "outputs": [],
   "source": [
    "def carp(*sayilar):\n",
    "    for sayi in sayilar:\n",
    "        pass\n",
    "carp(4,5)"
   ]
  },
  {
   "attachments": {},
   "cell_type": "markdown",
   "metadata": {},
   "source": [
    "# Global ve Yerel Değişkenler\n",
    "* global değişken fonksiyonlarımızın dışında tanımladığımız değişkenlerdir.\n",
    "* yerel değişkenler ise fonksiyon içinde kullandığımız değişkenlerdir.\n",
    "* fonksiyon dışında tanımladğımız fonksiyonların içinde kullanılırken, fonksiyonların içinde tanımladığımız değişkenler fonksiyon dışında kullanılmaz\n"
   ]
  },
  {
   "cell_type": "code",
   "execution_count": 39,
   "metadata": {},
   "outputs": [
    {
     "name": "stdout",
     "output_type": "stream",
     "text": [
      "5\n"
     ]
    },
    {
     "ename": "NameError",
     "evalue": "name 'x' is not defined",
     "output_type": "error",
     "traceback": [
      "\u001b[1;31m---------------------------------------------------------------------------\u001b[0m",
      "\u001b[1;31mNameError\u001b[0m                                 Traceback (most recent call last)",
      "Cell \u001b[1;32mIn[39], line 5\u001b[0m\n\u001b[0;32m      3\u001b[0m     \u001b[39mprint\u001b[39m(x)\n\u001b[0;32m      4\u001b[0m yazdir2()\n\u001b[1;32m----> 5\u001b[0m \u001b[39mprint\u001b[39m(x)\n",
      "\u001b[1;31mNameError\u001b[0m: name 'x' is not defined"
     ]
    }
   ],
   "source": [
    "def yazdir2():\n",
    "    x = 5\n",
    "    print(x)\n",
    "yazdir2()\n",
    "print(x)"
   ]
  },
  {
   "cell_type": "code",
   "execution_count": 40,
   "metadata": {},
   "outputs": [
    {
     "name": "stdout",
     "output_type": "stream",
     "text": [
      "5\n",
      "5\n"
     ]
    }
   ],
   "source": [
    "def yazdir3():\n",
    "    global x\n",
    "    x = 5\n",
    "    print(x)\n",
    "yazdir3()\n",
    "print(x)"
   ]
  },
  {
   "attachments": {},
   "cell_type": "markdown",
   "metadata": {},
   "source": [
    "##### bir fonksiyon kendi içinde çağrılırsa sonsuz döngüye girer."
   ]
  },
  {
   "attachments": {},
   "cell_type": "markdown",
   "metadata": {},
   "source": [
    "# Lambda Gösterimi\n",
    "* pythonda isimsiz olarak tamımladığımız fonsiyonlardır\n",
    "* tek satırda yazılır\n",
    "* gösterimi :\n",
    " \n",
    " fonksiyondi = lambda paarametreler : yapılacaklar"
   ]
  },
  {
   "cell_type": "code",
   "execution_count": 42,
   "metadata": {},
   "outputs": [
    {
     "data": {
      "text/plain": [
       "30"
      ]
     },
     "execution_count": 42,
     "metadata": {},
     "output_type": "execute_result"
    }
   ],
   "source": [
    "dikdortgenAlan = lambda a,b: a*b\n",
    "dikdortgenAlan(5,6)"
   ]
  },
  {
   "cell_type": "code",
   "execution_count": 44,
   "metadata": {},
   "outputs": [
    {
     "name": "stdout",
     "output_type": "stream",
     "text": [
      "10\n"
     ]
    }
   ],
   "source": [
    "ikiyleCarp = lambda x : print(x * 2)\n",
    "ikiyleCarp(5)"
   ]
  },
  {
   "cell_type": "code",
   "execution_count": 45,
   "metadata": {},
   "outputs": [
    {
     "data": {
      "text/plain": [
       "'nacila'"
      ]
     },
     "execution_count": 45,
     "metadata": {},
     "output_type": "execute_result"
    }
   ],
   "source": [
    "ters = lambda s : s [:: -1]\n",
    "ters(\"alican\")"
   ]
  }
 ],
 "metadata": {
  "kernelspec": {
   "display_name": "Python 3",
   "language": "python",
   "name": "python3"
  },
  "language_info": {
   "codemirror_mode": {
    "name": "ipython",
    "version": 3
   },
   "file_extension": ".py",
   "mimetype": "text/x-python",
   "name": "python",
   "nbconvert_exporter": "python",
   "pygments_lexer": "ipython3",
   "version": "3.11.0"
  },
  "orig_nbformat": 4
 },
 "nbformat": 4,
 "nbformat_minor": 2
}
