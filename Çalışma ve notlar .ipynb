{
 "cells": [
  {
   "attachments": {},
   "cell_type": "markdown",
   "metadata": {},
   "source": [
    "SEN İÇİNDEKİ CEVHERİ ÇIKARMAK İÇİN BURADASIN"
   ]
  },
  {
   "attachments": {},
   "cell_type": "markdown",
   "metadata": {},
   "source": [
    "# konu anlatımı\n",
    "== eşittir \n",
    "!= eşit değildir\n",
    "<= küçük eşit\n",
    ">= büyük eşit"
   ]
  },
  {
   "cell_type": "code",
   "execution_count": 4,
   "metadata": {},
   "outputs": [
    {
     "name": "stdout",
     "output_type": "stream",
     "text": [
      "False\n"
     ]
    }
   ],
   "source": [
    "\n",
    "\n",
    "a=5\n",
    "b=8\n",
    "print(a==b)"
   ]
  },
  {
   "cell_type": "code",
   "execution_count": 9,
   "metadata": {},
   "outputs": [
    {
     "name": "stdout",
     "output_type": "stream",
     "text": [
      "True\n"
     ]
    }
   ],
   "source": [
    "adim= \"alican\"\n",
    "soyismim= \"tanrıver\"\n",
    "print(adim!=soyismim)"
   ]
  },
  {
   "attachments": {},
   "cell_type": "markdown",
   "metadata": {},
   "source": [
    "# AND operatörü\n",
    "\n",
    "true and true = true \n",
    "\n",
    "true and false = false\n",
    "\n",
    "false and true = false\n",
    "\n",
    "false and false = false"
   ]
  },
  {
   "cell_type": "code",
   "execution_count": 10,
   "metadata": {},
   "outputs": [
    {
     "name": "stdout",
     "output_type": "stream",
     "text": [
      "True\n"
     ]
    }
   ],
   "source": [
    "a = int(input(\"sayi giriniz:\"))\n",
    "print(a > 5 and a<55 )\n",
    "# sayı = 8\n"
   ]
  },
  {
   "attachments": {},
   "cell_type": "markdown",
   "metadata": {},
   "source": [
    "# OR operatörü\n",
    "\n",
    "true or true = true\n",
    "true or false = true \n",
    "false or true = true\n",
    "false or false = false"
   ]
  },
  {
   "cell_type": "code",
   "execution_count": 11,
   "metadata": {},
   "outputs": [
    {
     "name": "stdout",
     "output_type": "stream",
     "text": [
      "True\n"
     ]
    }
   ],
   "source": [
    "w= 45\n",
    "print(w>20 or w % 5==0)"
   ]
  },
  {
   "cell_type": "code",
   "execution_count": 14,
   "metadata": {},
   "outputs": [
    {
     "name": "stdout",
     "output_type": "stream",
     "text": [
      "False\n"
     ]
    }
   ],
   "source": [
    "print(w< 20 or w*8==58)\n"
   ]
  },
  {
   "attachments": {},
   "cell_type": "markdown",
   "metadata": {},
   "source": [
    "# NOT operatörü\n",
    "True > False dönüşür\n",
    "False > True dönüşür"
   ]
  },
  {
   "cell_type": "code",
   "execution_count": 18,
   "metadata": {},
   "outputs": [
    {
     "name": "stdout",
     "output_type": "stream",
     "text": [
      "False\n"
     ]
    }
   ],
   "source": [
    "print(not (True ))"
   ]
  },
  {
   "attachments": {},
   "cell_type": "markdown",
   "metadata": {},
   "source": [
    "# if \n",
    "\"ilk    koşul doğruysa çalışır\"\n",
    "if doğruysa diğer durumlara bakılmaz ve if bloğu altındaki kodlar çalışır\n",
    "çalıştırmak için tab ile boşluk bırakarak satıra başlanır"
   ]
  },
  {
   "cell_type": "code",
   "execution_count": 27,
   "metadata": {},
   "outputs": [
    {
     "name": "stdout",
     "output_type": "stream",
     "text": [
      "if bu sefer çalıştı\n"
     ]
    }
   ],
   "source": [
    "if 8*5==40:  \n",
    "    print(\"if bu sefer çalıştı\")"
   ]
  },
  {
   "cell_type": "code",
   "execution_count": 40,
   "metadata": {},
   "outputs": [
    {
     "name": "stdout",
     "output_type": "stream",
     "text": [
      "sanırım yanlış bir şeyleri yaptın\n"
     ]
    }
   ],
   "source": [
    "if 8/5 < 0:\n",
    "    print(\" bu sefer if bloğu çalıştı\")\n",
    "print(\"sanırım yanlış bir şeyleri yaptın\")\n"
   ]
  },
  {
   "attachments": {},
   "cell_type": "markdown",
   "metadata": {},
   "source": [
    "# Kısaca if / elif / else\n",
    "if > 0 elif\n",
    "if > 0 elif 0 > else"
   ]
  },
  {
   "attachments": {},
   "cell_type": "markdown",
   "metadata": {},
   "source": [
    "%2 == tek mi çift mi"
   ]
  },
  {
   "cell_type": "code",
   "execution_count": 49,
   "metadata": {},
   "outputs": [
    {
     "name": "stdout",
     "output_type": "stream",
     "text": [
      "işleminiz doğru tebrikler:\n"
     ]
    }
   ],
   "source": [
    "if 8*5<25:\n",
    "    print(\"işleminiz doğru:\")\n",
    "elif 8*5>25:\n",
    "    print(\"işleminiz doğru tebrikler:\")\n",
    "\n"
   ]
  },
  {
   "attachments": {},
   "cell_type": "markdown",
   "metadata": {},
   "source": [
    "# else kullanımı\n",
    "else:\n",
    "print(...)"
   ]
  },
  {
   "cell_type": "code",
   "execution_count": 50,
   "metadata": {},
   "outputs": [
    {
     "name": "stdout",
     "output_type": "stream",
     "text": [
      "adiniz alican\n"
     ]
    }
   ],
   "source": [
    "adin = input(\"bir isim giriniz:\")\n",
    "if adin == \"fatih\":\n",
    "    print(\"adiniz fatih\")\n",
    "elif adin == \"ayşe\":\n",
    "    print(\"adiniz ayşe\")\n",
    "elif  adin == \"büşra\":\n",
    "    print(\"adiniz büşra\")\n",
    "else:\n",
    "    print(\"adiniz alican\")\n"
   ]
  },
  {
   "attachments": {},
   "cell_type": "markdown",
   "metadata": {},
   "source": [
    "# in operatörü\n",
    "belirtilen bir değerin dizi, metin, liste vey dmet gibi bir dizinin ögesi olup olmadığını kontrol eder. True ya da False değeri döndürür."
   ]
  },
  {
   "cell_type": "code",
   "execution_count": 51,
   "metadata": {},
   "outputs": [
    {
     "data": {
      "text/plain": [
       "True"
      ]
     },
     "execution_count": 51,
     "metadata": {},
     "output_type": "execute_result"
    }
   ],
   "source": [
    "fav = \"85\"\n",
    "\"8\" in fav"
   ]
  },
  {
   "cell_type": "code",
   "execution_count": 52,
   "metadata": {},
   "outputs": [
    {
     "data": {
      "text/plain": [
       "False"
      ]
     },
     "execution_count": 52,
     "metadata": {},
     "output_type": "execute_result"
    }
   ],
   "source": [
    "\"7\" in fav"
   ]
  },
  {
   "attachments": {},
   "cell_type": "markdown",
   "metadata": {},
   "source": [
    "# for kullanımı\n",
    "#### listeleirin, demetlerin, stringlerin ve sözlüklerin üzerinde dolaşmamızı sağlayan bir döngü türüdür. \n",
    "\n",
    "\"for\" elaman \"in\" veriYapisi\n"
   ]
  },
  {
   "cell_type": "code",
   "execution_count": 55,
   "metadata": {},
   "outputs": [
    {
     "name": "stdout",
     "output_type": "stream",
     "text": [
      "8\n",
      "9\n",
      "10\n",
      "11\n"
     ]
    }
   ],
   "source": [
    "liste = [8,9,10,11]\n",
    "for e in liste:\n",
    "    print(e)"
   ]
  },
  {
   "cell_type": "code",
   "execution_count": null,
   "metadata": {},
   "outputs": [],
   "source": []
  },
  {
   "cell_type": "code",
   "execution_count": 56,
   "metadata": {},
   "outputs": [
    {
     "name": "stdout",
     "output_type": "stream",
     "text": [
      "64\n",
      "81\n",
      "100\n",
      "121\n"
     ]
    }
   ],
   "source": [
    "for l in liste:\n",
    "    print(l**2)"
   ]
  },
  {
   "cell_type": "code",
   "execution_count": 5,
   "metadata": {},
   "outputs": [
    {
     "name": "stdout",
     "output_type": "stream",
     "text": [
      "C\n",
      "o\n",
      "u\n",
      "r\n",
      "s\n",
      "e\n"
     ]
    }
   ],
   "source": [
    "string = \"Course\"\n",
    "for a in string:\n",
    "    print(a)"
   ]
  },
  {
   "cell_type": "code",
   "execution_count": 9,
   "metadata": {},
   "outputs": [
    {
     "name": "stdout",
     "output_type": "stream",
     "text": [
      "25\n",
      "16\n",
      "9\n",
      "4\n",
      "1\n"
     ]
    }
   ],
   "source": [
    "sayilar = \"54321\"\n",
    "for d in sayilar:\n",
    "    print(int(d) * int(d))"
   ]
  },
  {
   "attachments": {},
   "cell_type": "markdown",
   "metadata": {},
   "source": [
    "# while döngüsü\n",
    "belli bir koşul sağlandığı sürece işlemleri gerçekleştirmeye devam eder.\n",
    "sona ermesi için bir süre süre sonra false olması gerekir.\n",
    "\n",
    "while koşul:\n",
    "    yapılacak işlemler\n",
    "    "
   ]
  },
  {
   "cell_type": "code",
   "execution_count": 10,
   "metadata": {},
   "outputs": [
    {
     "name": "stdout",
     "output_type": "stream",
     "text": [
      "toplam 3560\n"
     ]
    }
   ],
   "source": [
    "sum = 5\n",
    "i = 6\n",
    "while i < 85:\n",
    "    sum += i  # sum = sum + i\n",
    "    i += 1 \n",
    "print(\"toplam\",sum)\n"
   ]
  },
  {
   "attachments": {},
   "cell_type": "markdown",
   "metadata": {},
   "source": [
    "# range döngüsü\n",
    "(başlangıç, bitiş, artıi miktarı) şeklinde kullanılır.\n",
    "aralık atlama\n",
    "başangıç dahil \n",
    "bitiş dahil değil"
   ]
  },
  {
   "cell_type": "code",
   "execution_count": 11,
   "metadata": {},
   "outputs": [
    {
     "name": "stdout",
     "output_type": "stream",
     "text": [
      "range(2, 15, 6)\n"
     ]
    }
   ],
   "source": [
    "print(range(2,15,6))"
   ]
  },
  {
   "cell_type": "code",
   "execution_count": 18,
   "metadata": {},
   "outputs": [
    {
     "name": "stdout",
     "output_type": "stream",
     "text": [
      "2\n",
      "8\n",
      "14\n",
      "20\n"
     ]
    }
   ],
   "source": [
    "for a in range(2,21,6):\n",
    "    print(a)"
   ]
  },
  {
   "cell_type": "code",
   "execution_count": 20,
   "metadata": {},
   "outputs": [
    {
     "name": "stdout",
     "output_type": "stream",
     "text": [
      "0\n",
      "1\n",
      "2\n",
      "3\n",
      "4\n"
     ]
    }
   ],
   "source": [
    "for a in range(5):  # 0'dan başla 5'e kadar birer artırarak yaz\n",
    "    print(a)"
   ]
  },
  {
   "attachments": {},
   "cell_type": "markdown",
   "metadata": {},
   "source": [
    "# break \n",
    "döngüyü sonlandırır"
   ]
  },
  {
   "cell_type": "code",
   "execution_count": 21,
   "metadata": {},
   "outputs": [
    {
     "name": "stdout",
     "output_type": "stream",
     "text": [
      "0\n",
      "1\n",
      "2\n",
      "3\n",
      "4\n"
     ]
    }
   ],
   "source": [
    "i = 0 \n",
    "while i < 10:\n",
    "    if (i == 5):\n",
    "        break\n",
    "    else:\n",
    "        print(i)\n",
    "    i += 1  "
   ]
  },
  {
   "cell_type": "code",
   "execution_count": 2,
   "metadata": {},
   "outputs": [
    {
     "name": "stdout",
     "output_type": "stream",
     "text": [
      "Kapıdan çıkınız:\n",
      "14 kapı numarası ile evden çıkınız.\n",
      "Kapıdan çıkınız:\n"
     ]
    }
   ],
   "source": [
    "while True:\n",
    "    print(\"Kapıdan çıkınız:\")\n",
    "    no = input(\"kapı no\")\n",
    "    if (no == \"15\"):\n",
    "        break\n",
    "    else:\n",
    "        print(no,\"kapı numarası ile evden çıkınız.\")"
   ]
  },
  {
   "attachments": {},
   "cell_type": "markdown",
   "metadata": {},
   "source": [
    "# continue\n",
    "döngüyü devam ettirir"
   ]
  },
  {
   "cell_type": "code",
   "execution_count": 4,
   "metadata": {},
   "outputs": [
    {
     "name": "stdout",
     "output_type": "stream",
     "text": [
      "0\n",
      "1\n",
      "2\n",
      "3\n"
     ]
    }
   ],
   "source": [
    "wwe = [1,2,3,4,5,7,8,9]\n",
    "for e in range(5):\n",
    "    if e == 4:\n",
    "        continue\n",
    "    print(e)"
   ]
  },
  {
   "attachments": {},
   "cell_type": "markdown",
   "metadata": {},
   "source": [
    "% bölümünde kalan demektir"
   ]
  },
  {
   "attachments": {},
   "cell_type": "markdown",
   "metadata": {},
   "source": [
    "bolenSayiToplami = 0\n",
    "for i in range(1,sayi):\n",
    "    if sayi % 1 == 0:\n",
    "        bolenSayiToplami +=1  torbaya ekleme"
   ]
  },
  {
   "attachments": {},
   "cell_type": "markdown",
   "metadata": {},
   "source": [
    "# LİSTELER\n",
    "- [] içinde tutulurlar\n",
    "- indexleme, veri güncelleme, silme ve veri eklemem gibi işlemler yapabilirler\n",
    "- iç içe listeleme yapabilirler\n"
   ]
  },
  {
   "cell_type": "code",
   "execution_count": 1,
   "metadata": {},
   "outputs": [
    {
     "name": "stdout",
     "output_type": "stream",
     "text": [
      "['ayşe', 'büşra', 'fatih', 'havva']\n"
     ]
    }
   ],
   "source": [
    "ailem = [\"ayşe\", \"büşra\", \"fatih\", \"havva\" ]\n",
    "print(ailem)"
   ]
  },
  {
   "cell_type": "code",
   "execution_count": 4,
   "metadata": {},
   "outputs": [
    {
     "name": "stdout",
     "output_type": "stream",
     "text": [
      "ayşe\n",
      "havva\n"
     ]
    }
   ],
   "source": [
    "print(ailem[0])\n",
    "print(ailem[-1])"
   ]
  },
  {
   "attachments": {},
   "cell_type": "markdown",
   "metadata": {},
   "source": [
    "# Liste Metodları\n",
    "- append(): listenin soununa eleman ekler\n",
    "- remove(): listenin içerisindeki elemanı siler"
   ]
  },
  {
   "cell_type": "code",
   "execution_count": 5,
   "metadata": {},
   "outputs": [],
   "source": [
    "ailem.append(\"yılmaz\")"
   ]
  },
  {
   "cell_type": "code",
   "execution_count": 6,
   "metadata": {},
   "outputs": [
    {
     "name": "stdout",
     "output_type": "stream",
     "text": [
      "['ayşe', 'büşra', 'fatih', 'havva', 'yılmaz']\n"
     ]
    }
   ],
   "source": [
    "print(ailem)"
   ]
  },
  {
   "cell_type": "code",
   "execution_count": 11,
   "metadata": {},
   "outputs": [
    {
     "name": "stdout",
     "output_type": "stream",
     "text": [
      "[8, 'Servet']\n",
      "[8]\n"
     ]
    }
   ],
   "source": [
    "a = [8]\n",
    "a = a + [\"Servet\"]\n",
    "print(a)\n",
    "a.remove(\"Servet\")\n",
    "print(a)"
   ]
  },
  {
   "attachments": {},
   "cell_type": "markdown",
   "metadata": {},
   "source": [
    "- len(): listenin uzunluğunu verir."
   ]
  },
  {
   "cell_type": "code",
   "execution_count": 9,
   "metadata": {},
   "outputs": [
    {
     "name": "stdout",
     "output_type": "stream",
     "text": [
      "4\n"
     ]
    }
   ],
   "source": [
    "print(len(ailem))"
   ]
  },
  {
   "cell_type": "code",
   "execution_count": 12,
   "metadata": {},
   "outputs": [
    {
     "name": "stdout",
     "output_type": "stream",
     "text": [
      "['büşra', 'fatih', 'havva', 'alican']\n"
     ]
    }
   ],
   "source": [
    "#listedeki elemanı değiştirme.\n",
    "ailem[3] = \"alican\" \n",
    "print(ailem)"
   ]
  },
  {
   "attachments": {},
   "cell_type": "markdown",
   "metadata": {},
   "source": [
    "### Index\n",
    "* Listedeki elemanın indexini verir.\n",
    "* Aranan veriyi ilk bulduğunda durur. Diğer verilerde aynı veri varsa tekrar veri getirmez\n",
    "* Eğer veri bulunmazsa 'ValueError' hatası verir."
   ]
  },
  {
   "cell_type": "code",
   "execution_count": 14,
   "metadata": {},
   "outputs": [
    {
     "name": "stdout",
     "output_type": "stream",
     "text": [
      "alicanın indexi: 3\n"
     ]
    }
   ],
   "source": [
    "print(\"alicanın indexi:\", str(ailem.index(\"alican\")))"
   ]
  },
  {
   "attachments": {},
   "cell_type": "markdown",
   "metadata": {},
   "source": [
    "### Pop\n",
    "pop(): listedeki elamanı siler.\n",
    "*  index verilmezse son elemanı siler.\n",
    "*  index verilirse verilen indexteki elemanı siler."
   ]
  },
  {
   "cell_type": "code",
   "execution_count": 15,
   "metadata": {},
   "outputs": [
    {
     "name": "stdout",
     "output_type": "stream",
     "text": [
      "['büşra', 'fatih', 'alican']\n"
     ]
    }
   ],
   "source": [
    "ailem.pop(2)\n",
    "print(ailem)"
   ]
  },
  {
   "attachments": {},
   "cell_type": "markdown",
   "metadata": {},
   "source": [
    "### Insert\n",
    "* insert(): istenilen indexe eleman ekler\n"
   ]
  },
  {
   "cell_type": "code",
   "execution_count": 20,
   "metadata": {},
   "outputs": [
    {
     "name": "stdout",
     "output_type": "stream",
     "text": [
      "['büşra', 'fatih', 'dedem', 'alican']\n"
     ]
    }
   ],
   "source": [
    "ailem.insert(2,\"dedem\")\n",
    "print(ailem)"
   ]
  },
  {
   "attachments": {},
   "cell_type": "markdown",
   "metadata": {},
   "source": [
    "### Reverse\n",
    "* reverse(): listeyi ters çevirir."
   ]
  },
  {
   "cell_type": "code",
   "execution_count": 24,
   "metadata": {},
   "outputs": [
    {
     "name": "stdout",
     "output_type": "stream",
     "text": [
      "['alican', 'dedem', 'fatih', 'büşra']\n"
     ]
    }
   ],
   "source": [
    "ailem.reverse()\n",
    "print(ailem)"
   ]
  },
  {
   "attachments": {},
   "cell_type": "markdown",
   "metadata": {},
   "source": [
    "### Sort\n",
    "* sort(): listeyi küçükten büyüğe sıralar."
   ]
  },
  {
   "cell_type": "code",
   "execution_count": 31,
   "metadata": {},
   "outputs": [
    {
     "name": "stdout",
     "output_type": "stream",
     "text": [
      "[1, 2, 4, 58, 587, 899, 7895, 7896]\n"
     ]
    }
   ],
   "source": [
    "sayilar = [1,2,587,4,58,7896,899,7895]\n",
    "sayilar.sort()\n",
    "print(sayilar)\n"
   ]
  },
  {
   "attachments": {},
   "cell_type": "markdown",
   "metadata": {},
   "source": [
    "## Liste Toplama\n",
    "+ iki listeyi birleştirir + "
   ]
  },
  {
   "cell_type": "code",
   "execution_count": 32,
   "metadata": {},
   "outputs": [
    {
     "name": "stdout",
     "output_type": "stream",
     "text": [
      "['pazartesi', 'salı', 'çarşamba', 'perşembe']\n"
     ]
    }
   ],
   "source": [
    "liste1 = [\"pazartesi\",\"salı\"]\n",
    "liste2 = [\"çarşamba\", \"perşembe\"]\n",
    "print(liste1 + liste2)"
   ]
  },
  {
   "cell_type": "code",
   "execution_count": 35,
   "metadata": {},
   "outputs": [
    {
     "name": "stdout",
     "output_type": "stream",
     "text": [
      "isim\n",
      "23\n",
      "78\n",
      "edx\n"
     ]
    }
   ],
   "source": [
    "karisik = [4, \"isim\", 23, 78, [8,\"edx\"]]\n",
    "print(karisik[1])\n",
    "print(karisik[2])\n",
    "print(karisik[3])\n",
    "print(karisik[4][1]) # liste içinden seçmece"
   ]
  },
  {
   "attachments": {},
   "cell_type": "markdown",
   "metadata": {},
   "source": [
    "# TUOLPE(DEMET)\n",
    "\n",
    "* tuple listelere benzerdir.\n",
    "* tuple ile liste arasındaki en önemli fark tuple elemanlarının değiştirilemez olmasıdır, çünkü liste elemenları değiştirilebilir.\n",
    "* performanslı bir data sağlar\n",
    "* ()içerinde tanımlanabilir\n",
    "* iç içe tuple oluşturulabilir.\n",
    "* liste içerisinde tuple, tuple içerisinde liste tanımlamak mümkündür.\n",
    "* bir kere tanımlandıktan sonra değiştirilemezler yalnızca okunurlar\n",
    "* tek elemansa tuple olduğunu belirtmek için virgül kullanılmalıdır\n"
   ]
  },
  {
   "cell_type": "code",
   "execution_count": 24,
   "metadata": {},
   "outputs": [
    {
     "name": "stdout",
     "output_type": "stream",
     "text": [
      "(4, 5, 9, 'antalya', 15)\n"
     ]
    }
   ],
   "source": [
    "tuple = (4,5,9,\"antalya\",15)\n",
    "\n",
    "print(tuple)"
   ]
  },
  {
   "cell_type": "code",
   "execution_count": 25,
   "metadata": {},
   "outputs": [
    {
     "name": "stdout",
     "output_type": "stream",
     "text": [
      "5\n"
     ]
    }
   ],
   "source": [
    "print(len(tuple))"
   ]
  },
  {
   "cell_type": "code",
   "execution_count": 28,
   "metadata": {},
   "outputs": [
    {
     "name": "stdout",
     "output_type": "stream",
     "text": [
      "<class 'tuple'>\n"
     ]
    }
   ],
   "source": [
    "print(type(tuple))"
   ]
  },
  {
   "cell_type": "code",
   "execution_count": 29,
   "metadata": {},
   "outputs": [
    {
     "name": "stdout",
     "output_type": "stream",
     "text": [
      "15\n"
     ]
    }
   ],
   "source": [
    "print(tuple[-1])"
   ]
  },
  {
   "attachments": {},
   "cell_type": "markdown",
   "metadata": {},
   "source": [
    "# SET\n",
    "*  indexsiz ve sırasız elemanlardan oluşur.\n",
    "* veri tekrarı söz konusu değildir. Tüm elemenlar eşsizdir.\n",
    "* {}içerisinde tanımlanır\n",
    "* çok hızlı bir veri tipidir"
   ]
  },
  {
   "cell_type": "code",
   "execution_count": 43,
   "metadata": {},
   "outputs": [
    {
     "ename": "TypeError",
     "evalue": "'set' object is not subscriptable",
     "output_type": "error",
     "traceback": [
      "\u001b[1;31m---------------------------------------------------------------------------\u001b[0m",
      "\u001b[1;31mTypeError\u001b[0m                                 Traceback (most recent call last)",
      "Cell \u001b[1;32mIn[43], line 2\u001b[0m\n\u001b[0;32m      1\u001b[0m degerler \u001b[39m=\u001b[39m {\u001b[39m\"\u001b[39m\u001b[39maile sevgisi\u001b[39m\u001b[39m\"\u001b[39m, \u001b[39m15\u001b[39m, \u001b[39m\"\u001b[39m\u001b[39mözgüven\u001b[39m\u001b[39m\"\u001b[39m,\u001b[39m\"\u001b[39m\u001b[39mdürüstlük\u001b[39m\u001b[39m\"\u001b[39m,\u001b[39m15\u001b[39m}\n\u001b[1;32m----> 2\u001b[0m \u001b[39mprint\u001b[39m(degerler[\u001b[39m2\u001b[39;49m])\n",
      "\u001b[1;31mTypeError\u001b[0m: 'set' object is not subscriptable"
     ]
    }
   ],
   "source": [
    "degerler = {\"aile sevgisi\", 15, \"özgüven\",\"dürüstlük\",15}\n",
    "print(degerler[2])\n"
   ]
  },
  {
   "cell_type": "code",
   "execution_count": 44,
   "metadata": {},
   "outputs": [
    {
     "name": "stdout",
     "output_type": "stream",
     "text": [
      "aile sevgisi\n",
      "dürüstlük\n",
      "özgüven\n",
      "15\n"
     ]
    }
   ],
   "source": [
    "for i in degerler:\n",
    "    print(i)\n"
   ]
  },
  {
   "cell_type": "code",
   "execution_count": 47,
   "metadata": {},
   "outputs": [
    {
     "name": "stdout",
     "output_type": "stream",
     "text": [
      "True\n"
     ]
    }
   ],
   "source": [
    "print(15 and \"özgüven\" in degerler)"
   ]
  },
  {
   "attachments": {},
   "cell_type": "markdown",
   "metadata": {},
   "source": [
    "## Set Metodları\n",
    "* add(): sete eleman ekler\n",
    "* remove() : setten eleman siler\n",
    "* celar(): set içerisindeki elemanların hepsini siler\n",
    "* pop(): setin son elemanını siler(sol baştan)\n",
    "* update(): sete eleman ekler\n",
    "* union(): iki seti birleştirir\n",
    "* interseciton(): iki setin kesişimini alır\n",
    "* difference(): iki setin farkını alır "
   ]
  },
  {
   "cell_type": "code",
   "execution_count": 6,
   "metadata": {},
   "outputs": [
    {
     "name": "stdout",
     "output_type": "stream",
     "text": [
      "{'johnny', 'see', 48, 'e-book', '15', 'one day in the sea', 15}\n",
      "7\n"
     ]
    }
   ],
   "source": [
    "book = {\"see\", \"one day in the sea\",15,\"e-book\",\"johnny\",48,\"15\"}\n",
    "print(book)\n",
    "print(len(book))"
   ]
  },
  {
   "cell_type": "code",
   "execution_count": 5,
   "metadata": {},
   "outputs": [
    {
     "name": "stdout",
     "output_type": "stream",
     "text": [
      "{'johnny', 'see', 48, '1984', 'e-book', '15', 'one day in the sea', 15}\n"
     ]
    }
   ],
   "source": [
    "book.add(\"1984\")\n",
    "print(book)"
   ]
  },
  {
   "cell_type": "code",
   "execution_count": 15,
   "metadata": {},
   "outputs": [
    {
     "name": "stdout",
     "output_type": "stream",
     "text": [
      "{'johnny', 48, 'e-book', 'one day in the sea'}\n"
     ]
    }
   ],
   "source": [
    "book.remove(\"see\")\n",
    "print(book)"
   ]
  },
  {
   "cell_type": "code",
   "execution_count": 17,
   "metadata": {},
   "outputs": [
    {
     "name": "stdout",
     "output_type": "stream",
     "text": [
      "{48, 'e-book', 'one day in the sea'}\n"
     ]
    }
   ],
   "source": [
    "book.pop()\n",
    "print(book)"
   ]
  },
  {
   "cell_type": "code",
   "execution_count": 22,
   "metadata": {},
   "outputs": [
    {
     "name": "stdout",
     "output_type": "stream",
     "text": [
      "{48, 'e-book', 'blackbear', 'one day in the sea'}\n"
     ]
    }
   ],
   "source": [
    "book.update([\"blackbear\"])\n",
    "print(book)"
   ]
  },
  {
   "cell_type": "code",
   "execution_count": 26,
   "metadata": {},
   "outputs": [
    {
     "data": {
      "text/plain": [
       "{48, 87, 'blackbear', 'e-book', 'game', 'one day in the sea', 'ruler'}"
      ]
     },
     "execution_count": 26,
     "metadata": {},
     "output_type": "execute_result"
    }
   ],
   "source": [
    "book.union(notebook)"
   ]
  },
  {
   "cell_type": "code",
   "execution_count": 27,
   "metadata": {},
   "outputs": [
    {
     "data": {
      "text/plain": [
       "set()"
      ]
     },
     "execution_count": 27,
     "metadata": {},
     "output_type": "execute_result"
    }
   ],
   "source": [
    "book.intersection(notebook)"
   ]
  },
  {
   "cell_type": "code",
   "execution_count": 29,
   "metadata": {},
   "outputs": [],
   "source": [
    "book.add(1)\n",
    "notebook.add(2)\n"
   ]
  },
  {
   "cell_type": "code",
   "execution_count": 31,
   "metadata": {},
   "outputs": [
    {
     "data": {
      "text/plain": [
       "{1, 48, 'blackbear', 'e-book', 'one day in the sea'}"
      ]
     },
     "execution_count": 31,
     "metadata": {},
     "output_type": "execute_result"
    }
   ],
   "source": [
    "book.difference(notebook)"
   ]
  },
  {
   "cell_type": "code",
   "execution_count": 32,
   "metadata": {},
   "outputs": [
    {
     "name": "stdout",
     "output_type": "stream",
     "text": [
      "{'game', 2, 'ruler', 87}\n"
     ]
    }
   ],
   "source": [
    "print(notebook)"
   ]
  },
  {
   "cell_type": "code",
   "execution_count": 34,
   "metadata": {},
   "outputs": [
    {
     "name": "stdout",
     "output_type": "stream",
     "text": [
      "set()\n"
     ]
    }
   ],
   "source": [
    "notebook.clear()\n",
    "print(notebook)"
   ]
  },
  {
   "attachments": {},
   "cell_type": "markdown",
   "metadata": {},
   "source": [
    "# DICTIONARY\n",
    "* sırasız veri tutar\n",
    "* günlük hayattaki sözlük gibi\n",
    "* {} arasında tanımlanır\n",
    "* key : bir bilgiye ulaşmak için kullanılır\n",
    "* value : değer\n",
    "* dict(\"\") şeklinde de tanımlayabiliriz"
   ]
  },
  {
   "cell_type": "code",
   "execution_count": 35,
   "metadata": {},
   "outputs": [
    {
     "name": "stdout",
     "output_type": "stream",
     "text": [
      "<class 'dict'>\n",
      "{'door': 'kapı', 'chair': 'sandelye', 15: 'fifteen'}\n"
     ]
    }
   ],
   "source": [
    "sozluk = {\"door\" : \"kapı\", \"chair\" : \"sandelye\", 15 : \"fifteen\" }\n",
    "print(type(sozluk))\n",
    "print(sozluk)"
   ]
  },
  {
   "cell_type": "code",
   "execution_count": 36,
   "metadata": {},
   "outputs": [
    {
     "name": "stdout",
     "output_type": "stream",
     "text": [
      "fifteen\n"
     ]
    }
   ],
   "source": [
    "print(sozluk[15])"
   ]
  },
  {
   "attachments": {},
   "cell_type": "markdown",
   "metadata": {},
   "source": [
    "### veri ekleme"
   ]
  },
  {
   "cell_type": "code",
   "execution_count": 40,
   "metadata": {},
   "outputs": [
    {
     "name": "stdout",
     "output_type": "stream",
     "text": [
      "{'door': 'kapı', 'chair': 'sandelye', 15: 'fifteen', 'pencil': 'kalem'}\n"
     ]
    }
   ],
   "source": [
    "sozluk[ \"pencil\"] = \"kalem\"\n",
    "print(sozluk)"
   ]
  },
  {
   "attachments": {},
   "cell_type": "markdown",
   "metadata": {},
   "source": [
    "### veri güncelleme"
   ]
  },
  {
   "cell_type": "code",
   "execution_count": 41,
   "metadata": {},
   "outputs": [
    {
     "name": "stdout",
     "output_type": "stream",
     "text": [
      "{'door': 'kapı', 'chair': 'sandelye', 15: 'fifteen', 'pencil': 'kalemdir'}\n"
     ]
    }
   ],
   "source": [
    "sozluk[\"pencil\"] = \"kalemdir\"\n",
    "print(sozluk)"
   ]
  },
  {
   "attachments": {},
   "cell_type": "markdown",
   "metadata": {},
   "source": [
    "### veri silme"
   ]
  },
  {
   "cell_type": "code",
   "execution_count": 42,
   "metadata": {},
   "outputs": [
    {
     "name": "stdout",
     "output_type": "stream",
     "text": [
      "{'door': 'kapı', 'chair': 'sandelye', 15: 'fifteen'}\n"
     ]
    }
   ],
   "source": [
    "del(sozluk[\"pencil\"])\n",
    "print(sozluk)"
   ]
  },
  {
   "attachments": {},
   "cell_type": "markdown",
   "metadata": {},
   "source": [
    "### value'nin sözlük olması"
   ]
  },
  {
   "cell_type": "code",
   "execution_count": 43,
   "metadata": {},
   "outputs": [
    {
     "name": "stdout",
     "output_type": "stream",
     "text": [
      "{1: {'isim': 'alican'}}\n"
     ]
    }
   ],
   "source": [
    "sozlukValue = {1: {\"isim\": \"alican\"}}\n",
    "print(sozlukValue)"
   ]
  },
  {
   "attachments": {},
   "cell_type": "markdown",
   "metadata": {},
   "source": [
    "## SÖZLÜK METODLARI\n",
    "* keys() : sözlükteki keyleri verir\n",
    "* values() : sözlükteki valueleri verir\n",
    "* items() : sözlükteki key ve value çiftlerini verir"
   ]
  },
  {
   "cell_type": "code",
   "execution_count": 44,
   "metadata": {},
   "outputs": [
    {
     "data": {
      "text/plain": [
       "dict_keys(['door', 'chair', 15])"
      ]
     },
     "execution_count": 44,
     "metadata": {},
     "output_type": "execute_result"
    }
   ],
   "source": [
    "sozluk.keys()"
   ]
  },
  {
   "cell_type": "code",
   "execution_count": 46,
   "metadata": {},
   "outputs": [
    {
     "data": {
      "text/plain": [
       "dict_values(['kapı', 'sandelye', 'fifteen'])"
      ]
     },
     "execution_count": 46,
     "metadata": {},
     "output_type": "execute_result"
    }
   ],
   "source": [
    "sozluk.values()"
   ]
  },
  {
   "cell_type": "code",
   "execution_count": 47,
   "metadata": {},
   "outputs": [
    {
     "data": {
      "text/plain": [
       "dict_items([('door', 'kapı'), ('chair', 'sandelye'), (15, 'fifteen')])"
      ]
     },
     "execution_count": 47,
     "metadata": {},
     "output_type": "execute_result"
    }
   ],
   "source": [
    "sozluk.items()"
   ]
  },
  {
   "attachments": {},
   "cell_type": "markdown",
   "metadata": {},
   "source": [
    "# STRING"
   ]
  },
  {
   "attachments": {},
   "cell_type": "markdown",
   "metadata": {},
   "source": [
    "# string parçalama"
   ]
  },
  {
   "cell_type": "code",
   "execution_count": 48,
   "metadata": {},
   "outputs": [],
   "source": [
    "x = \"keyboard\"\n"
   ]
  },
  {
   "cell_type": "code",
   "execution_count": 51,
   "metadata": {},
   "outputs": [
    {
     "name": "stdout",
     "output_type": "stream",
     "text": [
      "oard\n"
     ]
    }
   ],
   "source": [
    "print(x[4 : 8])"
   ]
  },
  {
   "cell_type": "code",
   "execution_count": 52,
   "metadata": {},
   "outputs": [
    {
     "name": "stdout",
     "output_type": "stream",
     "text": [
      "board\n"
     ]
    }
   ],
   "source": [
    "print(x[3 : ])"
   ]
  },
  {
   "cell_type": "code",
   "execution_count": 53,
   "metadata": {},
   "outputs": [
    {
     "name": "stdout",
     "output_type": "stream",
     "text": [
      "keybo\n"
     ]
    }
   ],
   "source": [
    "print(x[: 5])"
   ]
  },
  {
   "cell_type": "code",
   "execution_count": 54,
   "metadata": {},
   "outputs": [
    {
     "name": "stdout",
     "output_type": "stream",
     "text": [
      "draobyek\n"
     ]
    }
   ],
   "source": [
    "print(x[:: -1])"
   ]
  },
  {
   "cell_type": "code",
   "execution_count": 61,
   "metadata": {},
   "outputs": [
    {
     "name": "stdout",
     "output_type": "stream",
     "text": [
      "kyor\n"
     ]
    }
   ],
   "source": [
    "print(x[:: 2]) # başlangıç ve bitiş arasında seçilen sayı kadar atlayarak veri al"
   ]
  },
  {
   "attachments": {},
   "cell_type": "markdown",
   "metadata": {},
   "source": [
    "### len()\n",
    "stringin uzunluğunu alır"
   ]
  },
  {
   "cell_type": "code",
   "execution_count": 62,
   "metadata": {},
   "outputs": [
    {
     "name": "stdout",
     "output_type": "stream",
     "text": [
      "8\n"
     ]
    }
   ],
   "source": [
    "print(len(x))"
   ]
  },
  {
   "attachments": {},
   "cell_type": "markdown",
   "metadata": {},
   "source": [
    "### upper()\n",
    "stringin tüm harflerini büyük yapar"
   ]
  },
  {
   "cell_type": "code",
   "execution_count": 63,
   "metadata": {},
   "outputs": [
    {
     "data": {
      "text/plain": [
       "'KEYBOARD'"
      ]
     },
     "execution_count": 63,
     "metadata": {},
     "output_type": "execute_result"
    }
   ],
   "source": [
    "x.upper()"
   ]
  },
  {
   "attachments": {},
   "cell_type": "markdown",
   "metadata": {},
   "source": [
    "### lower()\n",
    "stringin tüm harflerini küçük yapar"
   ]
  },
  {
   "cell_type": "code",
   "execution_count": 64,
   "metadata": {},
   "outputs": [
    {
     "data": {
      "text/plain": [
       "'keyboard'"
      ]
     },
     "execution_count": 64,
     "metadata": {},
     "output_type": "execute_result"
    }
   ],
   "source": [
    "x.lower()"
   ]
  },
  {
   "attachments": {},
   "cell_type": "markdown",
   "metadata": {},
   "source": [
    "### capitalize()\n",
    "stringin ilk harfini büyük yapar"
   ]
  },
  {
   "cell_type": "code",
   "execution_count": 65,
   "metadata": {},
   "outputs": [
    {
     "data": {
      "text/plain": [
       "'Keyboard'"
      ]
     },
     "execution_count": 65,
     "metadata": {},
     "output_type": "execute_result"
    }
   ],
   "source": [
    "x.capitalize()"
   ]
  },
  {
   "attachments": {},
   "cell_type": "markdown",
   "metadata": {},
   "source": [
    "### swapcase()\n",
    "stringin tüm büyük harflerini küçük ve tüm küçük harflerini büyük yapar"
   ]
  },
  {
   "cell_type": "code",
   "execution_count": 66,
   "metadata": {},
   "outputs": [
    {
     "data": {
      "text/plain": [
       "'yETgEN'"
      ]
     },
     "execution_count": 66,
     "metadata": {},
     "output_type": "execute_result"
    }
   ],
   "source": [
    "a = \"YetGen\"\n",
    "a.swapcase()"
   ]
  },
  {
   "attachments": {},
   "cell_type": "markdown",
   "metadata": {},
   "source": [
    "### replace \n",
    "stringin içeriindeki veriyi değiştirir\n"
   ]
  },
  {
   "cell_type": "code",
   "execution_count": 67,
   "metadata": {},
   "outputs": [
    {
     "data": {
      "text/plain": [
       "'Keyboard'"
      ]
     },
     "execution_count": 67,
     "metadata": {},
     "output_type": "execute_result"
    }
   ],
   "source": [
    "x.replace(\"k\",\"K\")\n"
   ]
  },
  {
   "attachments": {},
   "cell_type": "markdown",
   "metadata": {},
   "source": [
    "### split()\n",
    "stringi parçalar"
   ]
  },
  {
   "cell_type": "code",
   "execution_count": 68,
   "metadata": {},
   "outputs": [
    {
     "data": {
      "text/plain": [
       "['çanakpınar', ' çimi', ' bucak', ' gelves']"
      ]
     },
     "execution_count": 68,
     "metadata": {},
     "output_type": "execute_result"
    }
   ],
   "source": [
    "koyler = \"çanakpınar, çimi, bucak, gelves\"\n",
    "koyler.split(\",\")"
   ]
  },
  {
   "attachments": {},
   "cell_type": "markdown",
   "metadata": {},
   "source": [
    "### strip()\n",
    "string önündeki ve sonundaki boşlukları siler\n"
   ]
  },
  {
   "cell_type": "code",
   "execution_count": 71,
   "metadata": {},
   "outputs": [
    {
     "name": "stdout",
     "output_type": "stream",
     "text": [
      "         15 katlı       \n"
     ]
    },
    {
     "data": {
      "text/plain": [
       "'15 katlı'"
      ]
     },
     "execution_count": 71,
     "metadata": {},
     "output_type": "execute_result"
    }
   ],
   "source": [
    "ev = \"         15 katlı       \"\n",
    "print(ev)\n",
    "ev.strip()"
   ]
  },
  {
   "attachments": {},
   "cell_type": "markdown",
   "metadata": {},
   "source": [
    "### startswith()\n",
    "stringin belirtilen karakter ile başlayıp başlamadığını kontrol eder"
   ]
  },
  {
   "cell_type": "code",
   "execution_count": 72,
   "metadata": {},
   "outputs": [
    {
     "data": {
      "text/plain": [
       "True"
      ]
     },
     "execution_count": 72,
     "metadata": {},
     "output_type": "execute_result"
    }
   ],
   "source": [
    "koyler.startswith(\"ç\")"
   ]
  },
  {
   "attachments": {},
   "cell_type": "markdown",
   "metadata": {},
   "source": [
    "### endswith()\n",
    "stringin belirtilen karakter ile bitip bitmediğini kontrol eder"
   ]
  },
  {
   "cell_type": "code",
   "execution_count": 73,
   "metadata": {},
   "outputs": [
    {
     "data": {
      "text/plain": [
       "True"
      ]
     },
     "execution_count": 73,
     "metadata": {},
     "output_type": "execute_result"
    }
   ],
   "source": [
    "koyler.endswith(\"s\")"
   ]
  },
  {
   "attachments": {},
   "cell_type": "markdown",
   "metadata": {},
   "source": [
    "### find()\n",
    "stringin içerisindeki verinin indexini verir eğer veri yoksa -1 döndürür."
   ]
  },
  {
   "cell_type": "code",
   "execution_count": 80,
   "metadata": {},
   "outputs": [
    {
     "data": {
      "text/plain": [
       "5"
      ]
     },
     "execution_count": 80,
     "metadata": {},
     "output_type": "execute_result"
    }
   ],
   "source": [
    "koyler.find(\"p\") "
   ]
  },
  {
   "cell_type": "code",
   "execution_count": 81,
   "metadata": {},
   "outputs": [
    {
     "data": {
      "text/plain": [
       "-1"
      ]
     },
     "execution_count": 81,
     "metadata": {},
     "output_type": "execute_result"
    }
   ],
   "source": [
    "koyler.find(\"5\")"
   ]
  },
  {
   "attachments": {},
   "cell_type": "markdown",
   "metadata": {},
   "source": [
    "### index()\n",
    "stringin içerisindeki verinin indexini verir eğer veri yoksa ValueError hatası verir"
   ]
  },
  {
   "cell_type": "code",
   "execution_count": 78,
   "metadata": {},
   "outputs": [
    {
     "data": {
      "text/plain": [
       "30"
      ]
     },
     "execution_count": 78,
     "metadata": {},
     "output_type": "execute_result"
    }
   ],
   "source": [
    "koyler.index(\"s\")"
   ]
  },
  {
   "cell_type": "code",
   "execution_count": 82,
   "metadata": {},
   "outputs": [
    {
     "ename": "ValueError",
     "evalue": "substring not found",
     "output_type": "error",
     "traceback": [
      "\u001b[1;31m---------------------------------------------------------------------------\u001b[0m",
      "\u001b[1;31mValueError\u001b[0m                                Traceback (most recent call last)",
      "Cell \u001b[1;32mIn[82], line 1\u001b[0m\n\u001b[1;32m----> 1\u001b[0m koyler\u001b[39m.\u001b[39;49mindex(\u001b[39m\"\u001b[39;49m\u001b[39mü\u001b[39;49m\u001b[39m\"\u001b[39;49m)\n",
      "\u001b[1;31mValueError\u001b[0m: substring not found"
     ]
    }
   ],
   "source": [
    "koyler.index(\"ü\")"
   ]
  },
  {
   "attachments": {},
   "cell_type": "markdown",
   "metadata": {},
   "source": [
    "### isalpha()\n",
    "stringin tüm karakterlerinin alfebatik olup olmadığını koontrol eder"
   ]
  },
  {
   "cell_type": "code",
   "execution_count": 83,
   "metadata": {},
   "outputs": [
    {
     "data": {
      "text/plain": [
       "False"
      ]
     },
     "execution_count": 83,
     "metadata": {},
     "output_type": "execute_result"
    }
   ],
   "source": [
    "koyler.isalpha()"
   ]
  },
  {
   "cell_type": "code",
   "execution_count": 86,
   "metadata": {},
   "outputs": [
    {
     "name": "stdout",
     "output_type": "stream",
     "text": [
      "True\n"
     ]
    }
   ],
   "source": [
    "print(\"alican\".isalpha())"
   ]
  },
  {
   "attachments": {},
   "cell_type": "markdown",
   "metadata": {},
   "source": [
    "### isdigit()\n",
    "stringin tüm karakterlerinin rakam olup olmadığını koontrol eder"
   ]
  },
  {
   "cell_type": "code",
   "execution_count": 84,
   "metadata": {},
   "outputs": [
    {
     "data": {
      "text/plain": [
       "False"
      ]
     },
     "execution_count": 84,
     "metadata": {},
     "output_type": "execute_result"
    }
   ],
   "source": [
    "koyler.isdigit()"
   ]
  },
  {
   "cell_type": "code",
   "execution_count": 87,
   "metadata": {},
   "outputs": [
    {
     "name": "stdout",
     "output_type": "stream",
     "text": [
      "True\n"
     ]
    }
   ],
   "source": [
    "print(\"34367\".isdigit())"
   ]
  }
 ],
 "metadata": {
  "kernelspec": {
   "display_name": "Python 3",
   "language": "python",
   "name": "python3"
  },
  "language_info": {
   "codemirror_mode": {
    "name": "ipython",
    "version": 3
   },
   "file_extension": ".py",
   "mimetype": "text/x-python",
   "name": "python",
   "nbconvert_exporter": "python",
   "pygments_lexer": "ipython3",
   "version": "3.11.0"
  },
  "orig_nbformat": 4
 },
 "nbformat": 4,
 "nbformat_minor": 2
}
