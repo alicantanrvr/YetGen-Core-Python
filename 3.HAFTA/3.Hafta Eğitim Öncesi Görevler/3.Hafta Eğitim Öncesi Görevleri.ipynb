{
  "cells": [
    {
      "cell_type": "markdown",
      "metadata": {
        "id": "tsD4YVAe_Te2"
      },
      "source": [
        "# Problem 1\n",
        "Bir sayının 7'ye bölünebilir olup olmadığını kontrol etmek \n",
        "için bir program yazın.\n",
        "\n",
        "İpucu: Mod operatörünü (%) kullanabilirsiniz."
      ]
    },
    {
      "cell_type": "code",
      "execution_count": 9,
      "metadata": {
        "id": "NGjvNwKx_Te7"
      },
      "outputs": [
        {
          "name": "stdout",
          "output_type": "stream",
          "text": [
            "bu sayı 7'ye bölünebilir\n"
          ]
        }
      ],
      "source": [
        "# sayi=14\n",
        "sayi = int(input(\"bir sayı girniz:\"))\n",
        "if sayi%7==0:\n",
        "    print(\"bu sayı 7'ye bölünebilir\")\n",
        "elif sayi%7!=0:\n",
        "    print(\"bu sayı 7'ye bölünemez\")"
      ]
    },
    {
      "cell_type": "markdown",
      "metadata": {
        "id": "Kg3qiBAI_Te8"
      },
      "source": [
        "# Problem 2\n",
        "Kullanıcıdan vize ve final notu isteyin. Girilen vize notunun %40’ı ve \n",
        "girilen finalnotunun ise %60’ı alınarak yıl sonu not ortalaması hesaplanacaktır. \n",
        "\n",
        "Bu not ortalaması eğer 85 ve üzeri ise AA, \n",
        "\n",
        "75 ve 85 arasında ise BA, \n",
        "\n",
        "70 ve 75 arasında ise BB, \n",
        "\n",
        "65 ve 70 arasında ise CB,\n",
        "\n",
        "60 ve 65 arasında ise CC,\n",
        "\n",
        "55 ve 60 arasında ise DC,\n",
        "\n",
        "50 ve 55 arasında ise DD olarak hesaplanacaktır. \n",
        "\n",
        "Bu öğrencinin yıl sonu toplam notu 50’nin altında ise FF ile dersten kalacaktır. \n",
        "\n",
        "Ayrıca öğrencinin final notu 50’nin altında ise direkt FF ile kalacaktır."
      ]
    },
    {
      "cell_type": "code",
      "execution_count": 29,
      "metadata": {
        "id": "MXTtCxI1_Te8"
      },
      "outputs": [
        {
          "name": "stdout",
          "output_type": "stream",
          "text": [
            "DC\n"
          ]
        }
      ],
      "source": [
        "# vize = 60  final = 55\n",
        "\n",
        "vize = int(input(\"vize notunu griniz:\"))\n",
        "final = int(input(\"final notunu giriniz:\"))\n",
        "\n",
        "notOrt = vize*40/100 + final*60/100\n",
        "\n",
        "if final<50:\n",
        "    print(\"FF ile direkt kaldınız\")\n",
        "elif notOrt >= 85:\n",
        "    print(\"AA\")\n",
        "elif notOrt < 85 and notOrt > 75:\n",
        "    print(\"BA\")\n",
        "elif notOrt < 75 and notOrt > 70:\n",
        "    print(\"BB\")\n",
        "elif notOrt < 70 and notOrt > 65:\n",
        "    print(\"CB\")\n",
        "elif notOrt < 65 and notOrt > 60:\n",
        "    print(\"CC\")\n",
        "elif notOrt < 60 and notOrt > 55:\n",
        "    print(\"DC\")\n",
        "elif notOrt < 55 and notOrt > 50:\n",
        "    print(\"DD\")\n",
        "\n",
        "elif notOrt<50:\n",
        "    print(\"FF ile dersten kaldınız\") \n",
        "\n",
        "\n"
      ]
    },
    {
      "cell_type": "markdown",
      "metadata": {
        "id": "tAoRYCTC_Te8"
      },
      "source": [
        "# Problem 3\n",
        "İki YetGenli Zirve'de karşılaşıyorlar. Birbirlerini tanımak için sorular soruyorlar. Birbirlerine yaşlarını soruyorlar. Akıllarına bir Python programı yazıp, yaşlarını ve isimlerini giriyorlar. Büyük olanın yaşını ekrana yazdıran programı yazıyorlar. Sende bu iki YetGenli'ye destek olmak ister misin?\n",
        "\n",
        "```\n",
        "Birinci YetGenlinin ismi: Ahmet\n",
        "Birinci YetGenlinin yaşı : 20\n",
        "İkinci YetGenlinin ismi: Mehmet\n",
        "İkinci YetGenlinin yaşı : 25\n",
        "Mehmet'in yaşı daha büyük ve yaşı 25'tir.\n",
        "```"
      ]
    },
    {
      "cell_type": "code",
      "execution_count": 20,
      "metadata": {
        "id": "bPjE8W0i_Te8"
      },
      "outputs": [
        {
          "name": "stdout",
          "output_type": "stream",
          "text": [
            "Büşra 'ın yaşı daha büyük ve 27 'dir.\n"
          ]
        }
      ],
      "source": [
        "# \n",
        "isim1 = str(input(\"birinci ismi giriniz:\"))\n",
        "isim2 = str(input(\"ikinci ismi giriniz:\"))\n",
        "\n",
        "yas1 = int(input(\"ilk kişinin yaşının giriniz:\"))\n",
        "yas2 = int(input(\"ikinci kişinin yaşının giriniz:\"))\n",
        "\n",
        "if yas1>yas2:\n",
        "    print( isim1,\"'ın yaşı daha büyük ve\",yas1,\"'dir.\")\n",
        "elif yas2>yas1:\n",
        "    print( isim2,\"'ın yaşı daha büyük ve\",yas2,\"'dir.\")\n",
        "    \n",
        "\n"
      ]
    },
    {
      "cell_type": "markdown",
      "metadata": {
        "id": "zBVv8Tyg_Te9"
      },
      "source": [
        "# Problem 4\n",
        "Pandemi döneminde AVM'lerde ateş ölçümü yapılıyor. AVM'ye giren kişinin ateş ölçümü 37.5 derecenin altında ise girişe izin veriliyor. 37.5 derecenin üstünde ise girişe izin verilmiyor. AVM'ye girişe izin verilip verilmediğini ekrana yazdıran bir program yazın.\n",
        "\n",
        "Program sonunda şöyle bir çıktı elde etmelisiniz:\n",
        "\n",
        "```\n",
        "Ateşiniz 37.5 derece. AVM'ye girebilirsin! Maske takmayı unutma!\n",
        "Ateşiniz 37.6 derece. AVM'ye giremezsin! Hemen evine dön!\n",
        "```"
      ]
    },
    {
      "cell_type": "code",
      "execution_count": 22,
      "metadata": {
        "id": "TSAXs8et_Te9"
      },
      "outputs": [
        {
          "name": "stdout",
          "output_type": "stream",
          "text": [
            "ateşiniz 39 derece, AVM'ye giremezsiniz:\n"
          ]
        }
      ],
      "source": [
        "ates = int(input(\"ateşinizi giriniz:\"))\n",
        "if ates>37.5:\n",
        "    print(\"ateşiniz\",ates,\"derece, AVM'ye giremezsiniz:\")\n",
        "elif ates<37.5:\n",
        "     print(\"ateşiniz\",ates,\"derece, AVM'ye girebilirsiniz:\")"
      ]
    },
    {
      "cell_type": "markdown",
      "metadata": {
        "id": "6AEkZrDt_Te9"
      },
      "source": [
        "# Problem 5\n",
        "YetGen bir spor kulübüyle sponsorluk anlaşması yapıyor. Kulüp, sponsorluk anlaşmasına göre her YetGen liderinin beden kitle indeksini hesaplamak istiyor. Spor kulübü, beden kitle indeksini hesaplamak için YetGen Jump Python liderlerinden Berkcan ve Ahmet'i arıyor. Berkcan ve Ahmet, kulübe yardımcı olmak için bir Python programı yazıyorlar. Sende bu iki YetGen liderine destek olmak ister misin?\n",
        "\n",
        "Kullanıcıdan alınan boy ve kilo değerlerine göre beden kitle indeksini hesaplayın ve şu kurallara göre ekrana şu yazıları yazdırın.\n",
        "\n",
        "\n",
        "Beden Kitle İndeksi, kişinin ağırlığının (kg olarak) boyunun karesine (m olarak) bölünmesiyle hesaplanır.\n",
        "\n",
        "\n",
        "```\n",
        " BKİ 18.5'un altındaysa -------> Zayıf\n",
        "\n",
        " BKİ 18.5 ile 25 arasındaysa ------> Normal\n",
        "\n",
        " BKİ 25 ile 30 arasındaysa --------> Fazla Kilolu\n",
        "\n",
        " BKİ 30'un üstündeyse -------------> Obez\n",
        "```\n",
        "\n"
      ]
    },
    {
      "cell_type": "code",
      "execution_count": 23,
      "metadata": {
        "id": "t-XPI_u0_Te-"
      },
      "outputs": [
        {
          "name": "stdout",
          "output_type": "stream",
          "text": [
            "normal\n"
          ]
        }
      ],
      "source": [
        "# boy=170cm kilo=65kg\n",
        "\n",
        "kilo = int(input(\"kilonuuzu giriniz:\"))\n",
        "boy = int(input(\"boyunuzu giriniz:\"))\n",
        "bki = kilo/((boy/100)**2)\n",
        "if bki < 18.5:\n",
        "    print(\"zayıf\")\n",
        "elif 25 > bki > 18.5:\n",
        "    print(\"normal\")\n",
        "elif 30 > bki > 25:\n",
        "    print(\"fazla kilolu\")\n",
        "elif bki > 30:\n",
        "    print(\"obez\")"
      ]
    },
    {
      "cell_type": "markdown",
      "metadata": {
        "id": "oFsvQyaO_Te-"
      },
      "source": [
        "# Problem 6\n",
        "Kullanıcıdan isim, yaş ve eğitim bilgilerini isteyip ehliyet alabilme  durumunu kontrol ediniz. \n",
        "\n",
        "Ehliyet alma koşulu en az 18 yaşında ve eğitim durumu lise ya da üniversite olmalıdır. "
      ]
    },
    {
      "cell_type": "code",
      "execution_count": 24,
      "metadata": {
        "id": "Tu2mcgco_Te-"
      },
      "outputs": [
        {
          "name": "stdout",
          "output_type": "stream",
          "text": [
            "tebrikler, Alican ehliyet alabilme şartlarına sahipsin\n"
          ]
        }
      ],
      "source": [
        "# yas = 19\n",
        "# eğitim durumu = üniversite\n",
        "isim = str(input(\"bir isim giriniz:\"))\n",
        "yas = int(input(\"yaşınızı giriniz:\"))\n",
        "egitimDurumu = str(input(\"eğitim durumunuzu giriniz:\"))\n",
        "\n",
        "if yas >= 18 and egitimDurumu == \"üniversite\" or \"lise\":\n",
        "    print(\"tebrikler,\",isim,\"ehliyet alabilme şartlarına sahipsin\")\n",
        "else:\n",
        "    print(\"maalesef,\",isim,\"ehliyet alabilme şartlarına sahip değilsin\")\n",
        "\n",
        "\n",
        "\n"
      ]
    },
    {
      "cell_type": "markdown",
      "metadata": {
        "id": "eUkxVSAE_Te_"
      },
      "source": [
        "# Problem 7\n",
        "Bir yılın artık yıl olup olmadığını kontrol etmek için bir program yazın. \n",
        "Artık yıl kuralı:\n",
        "\n",
        "a) Eğer yılın son iki basamağı (00) ile bitmiyor ve yalnızca 4'e tam bölünüyorsa artık yıldır. Ya da, \n",
        "\n",
        "b) Eğer yıl 400'e tam bölünüyorsa artık yıldır.\n",
        "\n",
        "**Örneğin**\n",
        "```\n",
        "2017 artık yıl değildir.\n",
        "1900 artık yıl değildir\n",
        "2012 artık yıldır.\n",
        "2000 artık yıldır.\n",
        "```"
      ]
    },
    {
      "cell_type": "code",
      "execution_count": 26,
      "metadata": {
        "id": "4uWh8qUL_Te_"
      },
      "outputs": [
        {
          "name": "stdout",
          "output_type": "stream",
          "text": [
            "2004  artık yıldır.\n"
          ]
        }
      ],
      "source": [
        "yil = int(input(\"bir yıl giriniz:\"))\n",
        "if yil % 100 != 0 and yil %4 == 0:\n",
        "    print(yil,\" artık yıldır.\")\n",
        "else:\n",
        "    print(yil,\"artık yıl değildir.\")"
      ]
    }
  ],
  "metadata": {
    "colab": {
      "provenance": []
    },
    "kernelspec": {
      "display_name": "Python 3.10.5 64-bit",
      "language": "python",
      "name": "python3"
    },
    "language_info": {
      "codemirror_mode": {
        "name": "ipython",
        "version": 3
      },
      "file_extension": ".py",
      "mimetype": "text/x-python",
      "name": "python",
      "nbconvert_exporter": "python",
      "pygments_lexer": "ipython3",
      "version": "3.11.0"
    },
    "orig_nbformat": 4,
    "vscode": {
      "interpreter": {
        "hash": "5026d2d6e7aaaaba093def813beadff083d8733e4a511af01735cbabd156995d"
      }
    }
  },
  "nbformat": 4,
  "nbformat_minor": 0
}
