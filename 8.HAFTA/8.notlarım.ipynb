{
 "cells": [
  {
   "attachments": {},
   "cell_type": "markdown",
   "metadata": {},
   "source": [
    "# Dosya Okuma İşlemleri\n",
    "* Dosya açmak ve oluşturmak için open() \n",
    "* open(dosyaismi, dosyaModu)\n",
    "* dosyaModu: Dosyayı hangi modda açacağını belirtir\n",
    "* r : okuma modunda açmayı sağlar. Belirtilen konumda dosya olması gerekir.\n",
    "* close() dosyayı kapatır."
   ]
  },
  {
   "cell_type": "code",
   "execution_count": 1,
   "metadata": {},
   "outputs": [
    {
     "name": "stdout",
     "output_type": "stream",
     "text": [
      "<_io.TextIOWrapper name='bilgiler.txt' mode='r' encoding='cp1254'>\n"
     ]
    }
   ],
   "source": [
    "f = open(\"bilgiler.txt\")\n",
    "print(f)"
   ]
  },
  {
   "cell_type": "code",
   "execution_count": 3,
   "metadata": {},
   "outputs": [
    {
     "name": "stdout",
     "output_type": "stream",
     "text": [
      "ben bu dosyayı bulamadım\n"
     ]
    }
   ],
   "source": [
    "try:\n",
    "    file = open(\"bilgiler1.txt\",\"r\",encoding=\"utf-8\")\n",
    "except:\n",
    "    print((\"ben bu dosyayı bulamadım\"))"
   ]
  },
  {
   "cell_type": "code",
   "execution_count": 10,
   "metadata": {},
   "outputs": [
    {
     "name": "stdout",
     "output_type": "stream",
     "text": [
      "Bugün\n",
      "\n",
      "lanet\n",
      "\n",
      "olmasın\n",
      "\n",
      "5\n",
      "\n"
     ]
    }
   ],
   "source": [
    "file = open(\"bilgiler.txt\", \"r\", encoding=\"utf-8\")\n",
    "\n",
    "for i in file:\n",
    "    print(i)\n",
    "file.close()"
   ]
  },
  {
   "attachments": {},
   "cell_type": "markdown",
   "metadata": {},
   "source": [
    "* read() içine değer vermezsek bütü dosyayı okur"
   ]
  },
  {
   "cell_type": "code",
   "execution_count": 12,
   "metadata": {},
   "outputs": [
    {
     "name": "stdout",
     "output_type": "stream",
     "text": [
      "1.okuma dosyası içeriği\n",
      " Bugün\n",
      "lanet\n",
      "olmasın\n",
      "5\n",
      "\n",
      "2.okuma dosyası içeriği\n",
      " Bugün\n",
      "lanet\n",
      "olmasın\n",
      "5\n",
      "\n"
     ]
    }
   ],
   "source": [
    "file = open(\"bilgiler.txt\", \"r\",encoding=\"utf-8\")\n",
    "icerik = file.read()\n",
    "print(\"1.okuma dosyası içeriği\\n\", icerik, sep = \" \")\n",
    "icerik2 = file.read()\n",
    "print(\"2.okuma dosyası içeriği\\n\", icerik, sep = \" \")\n",
    "file.close()"
   ]
  },
  {
   "attachments": {},
   "cell_type": "markdown",
   "metadata": {},
   "source": [
    "* read() fonksiyonu ile bir dosyayı okuduğumuzda dosya imlecimiz dosyanın en sonuna gider ve read() fonksiyonu 2. okuma da artık boş string döner"
   ]
  },
  {
   "attachments": {},
   "cell_type": "markdown",
   "metadata": {},
   "source": [
    "* readline() her çalıştırmada tek satır okur"
   ]
  },
  {
   "cell_type": "code",
   "execution_count": 14,
   "metadata": {},
   "outputs": [
    {
     "name": "stdout",
     "output_type": "stream",
     "text": [
      "Bugün\n",
      "\n"
     ]
    }
   ],
   "source": [
    "file = open(\"bilgiler.txt\", \"r\", encoding=\"utf-8\")\n",
    "print(file.readline())"
   ]
  },
  {
   "cell_type": "code",
   "execution_count": 16,
   "metadata": {},
   "outputs": [
    {
     "name": "stdout",
     "output_type": "stream",
     "text": [
      "lanet\n",
      "\n"
     ]
    }
   ],
   "source": [
    "print(file.readline())"
   ]
  },
  {
   "cell_type": "code",
   "execution_count": 17,
   "metadata": {},
   "outputs": [],
   "source": [
    "file.close()"
   ]
  },
  {
   "attachments": {},
   "cell_type": "markdown",
   "metadata": {},
   "source": [
    "* readlines() bütün satırları liste şeklinde döner"
   ]
  },
  {
   "cell_type": "code",
   "execution_count": 19,
   "metadata": {},
   "outputs": [
    {
     "name": "stdout",
     "output_type": "stream",
     "text": [
      "['Bugün\\n', 'lanet\\n', 'olmasın\\n', '5\\n']\n"
     ]
    }
   ],
   "source": [
    "file = open(\"bilgiler.txt\", \"r\", encoding=\"utf-8\")\n",
    "print(file.readlines())"
   ]
  },
  {
   "cell_type": "code",
   "execution_count": 20,
   "metadata": {},
   "outputs": [],
   "source": [
    "file.close()"
   ]
  },
  {
   "attachments": {},
   "cell_type": "markdown",
   "metadata": {},
   "source": [
    "# Dosyaya Yazma\n",
    "w : Yazma modu. Dosyayı konumda oluşturur. Eğer dosya mevcut ise dosyayı siler ve yeni bir dosya oluşturur. write fonksiyonu ile dosyamıza yazıyoruz\n"
   ]
  },
  {
   "cell_type": "code",
   "execution_count": 27,
   "metadata": {},
   "outputs": [],
   "source": [
    "file = open(\"bilgiler.txt\", \"w\", encoding=\"utf-8\")\n",
    "file.write(\"Olsun Be\\n\")\n",
    "file.close()"
   ]
  },
  {
   "attachments": {},
   "cell_type": "markdown",
   "metadata": {},
   "source": [
    "* a : append() ekleme modudur. Dosya konumda varsa oluşturur, ekleme işlemi yapar.\n",
    "* r+ : hem yazma hem okuma modudur. Dosya konumda yoksa hata verir."
   ]
  },
  {
   "cell_type": "code",
   "execution_count": 28,
   "metadata": {},
   "outputs": [],
   "source": [
    "file = open(\"bilgiler.txt\", \"a\", encoding=\"utf-8\")\n",
    "file.write(\"yoluna devam et \\n\")\n",
    "file.close()"
   ]
  },
  {
   "cell_type": "code",
   "execution_count": 29,
   "metadata": {},
   "outputs": [],
   "source": [
    "file = open(\"bilgiler.txt\", \"r+\", encoding=\"utf-8\")\n",
    "file.write(\"Süper\\n\")\n",
    "file.read()\n",
    "file.close()"
   ]
  },
  {
   "attachments": {},
   "cell_type": "markdown",
   "metadata": {},
   "source": [
    "# Dosyaları Otomatik Açma\n",
    "with open(dosya_adı, dosya_kipi) as file\n",
    "-    dosya işlemleri"
   ]
  },
  {
   "cell_type": "code",
   "execution_count": 31,
   "metadata": {},
   "outputs": [
    {
     "name": "stdout",
     "output_type": "stream",
     "text": [
      "Süper\n",
      "\n",
      "yoluna devam et \n",
      "\n"
     ]
    }
   ],
   "source": [
    "with open(\"bilgiler.txt\", \"r\", encoding=\"utf-8\") as file:\n",
    "    for i in file:\n",
    "        print(i)\n"
   ]
  },
  {
   "attachments": {},
   "cell_type": "markdown",
   "metadata": {},
   "source": [
    "# Dosyaları İleri-Geri Sarmak\n",
    "* seek() metodunu kullnarak istediğiniz bayt konumuna dönebilirsiniz\n",
    "* tell() dosaynın hangi konumda olduğunu söyler"
   ]
  },
  {
   "cell_type": "code",
   "execution_count": 32,
   "metadata": {},
   "outputs": [
    {
     "name": "stdout",
     "output_type": "stream",
     "text": [
      "15\n"
     ]
    }
   ],
   "source": [
    "with open(\"bilgiler.txt\", \"r\", encoding=\"utf-8\") as file:\n",
    "    file.seek(15)\n",
    "    print(file.tell())"
   ]
  },
  {
   "cell_type": "code",
   "execution_count": 62,
   "metadata": {},
   "outputs": [
    {
     "name": "stdout",
     "output_type": "stream",
     "text": [
      "er\n",
      "yo\n",
      "Süper\n",
      "yol\n"
     ]
    }
   ],
   "source": [
    "with open(\"bilgiler.txt\", \"r\", encoding=\"utf-8\") as file:\n",
    "    file.seek(4)\n",
    "    icerik = file.read(5)\n",
    "    print(icerik)\n",
    "    file.seek(0)\n",
    "    icerik2 = file.read(9)\n",
    "    print(icerik2)"
   ]
  },
  {
   "attachments": {},
   "cell_type": "markdown",
   "metadata": {},
   "source": [
    "# Dosyanın Başında Değişiklik Yapmak"
   ]
  },
  {
   "cell_type": "code",
   "execution_count": 63,
   "metadata": {},
   "outputs": [],
   "source": [
    "with open(\"bilgiler.txt\", \"r+\", encoding=\"utf-8\") as file:\n",
    "    icerik = file.read()\n",
    "    icerik = \"deneme\\n\" + icerik\n",
    "    file.seek(0)\n",
    "    file.write(icerik)"
   ]
  },
  {
   "cell_type": "code",
   "execution_count": 64,
   "metadata": {},
   "outputs": [
    {
     "name": "stdout",
     "output_type": "stream",
     "text": [
      "deneme\n",
      "Süper\n",
      "yoluna devam et \n"
     ]
    }
   ],
   "source": [
    "with open(\"bilgiler.txt\", \"r+\", encoding=\"utf-8\") as file:\n",
    "    print(file.read())"
   ]
  },
  {
   "attachments": {},
   "cell_type": "markdown",
   "metadata": {},
   "source": [
    "# Dosyanın Ortasında Değişiklik Yapmak"
   ]
  },
  {
   "cell_type": "code",
   "execution_count": 65,
   "metadata": {},
   "outputs": [],
   "source": [
    "with open(\"bilgiler.txt\", \"r+\", encoding=\"utf-8\") as file:\n",
    "    liste = file.readlines()\n",
    "    liste.insert(1, \"deneyim\\n\")\n",
    "    file.seek(0)\n",
    "    file.writelines(liste)"
   ]
  },
  {
   "cell_type": "code",
   "execution_count": 66,
   "metadata": {},
   "outputs": [
    {
     "name": "stdout",
     "output_type": "stream",
     "text": [
      "deneme\n",
      "deneyim\n",
      "Süper\n",
      "yoluna devam et \n"
     ]
    }
   ],
   "source": [
    "with open(\"bilgiler.txt\", \"r+\", encoding=\"utf-8\") as file:\n",
    "    print(file.read())"
   ]
  },
  {
   "attachments": {},
   "cell_type": "markdown",
   "metadata": {},
   "source": [
    "# Dosyanın Sonunda Değişiklik Yapmak"
   ]
  },
  {
   "cell_type": "code",
   "execution_count": 77,
   "metadata": {},
   "outputs": [],
   "source": [
    "with open(\"bilgiler.txt\", \"r+\", encoding=\"utf-8\") as file:\n",
    "    file.seek(40)\n",
    "    file.write(\"zaman\")"
   ]
  },
  {
   "cell_type": "code",
   "execution_count": 78,
   "metadata": {},
   "outputs": [
    {
     "name": "stdout",
     "output_type": "stream",
     "text": [
      "deneme\n",
      "deneyim\n",
      "Süper\n",
      "yoluna devam etzaman\n",
      "\n"
     ]
    }
   ],
   "source": [
    "with open(\"bilgiler.txt\", \"r+\", encoding=\"utf-8\") as file:\n",
    "    print(file.read())"
   ]
  },
  {
   "attachments": {},
   "cell_type": "markdown",
   "metadata": {},
   "source": [
    "# Nesne Yönelimli Proglamlama(OOP)\n",
    "- Don't Repeat Yourself"
   ]
  },
  {
   "attachments": {},
   "cell_type": "markdown",
   "metadata": {},
   "source": [
    "# Class\n",
    "* Sınıflar ve Classlar objeleri oluştururken objelerin özelliklerini ve metodlarını tanımladığımız bir yapıdır."
   ]
  },
  {
   "cell_type": "code",
   "execution_count": 79,
   "metadata": {},
   "outputs": [],
   "source": [
    "class araba():\n",
    "   # sınıf özellikleri(Attribute)\n",
    "   model = \"Ford\" \n",
    "   renk = \"Siyah\"\n",
    "   beygir = 140\n",
    "   silindir = 8\n"
   ]
  },
  {
   "attachments": {},
   "cell_type": "markdown",
   "metadata": {},
   "source": [
    "### Obje Oluşturma\n",
    "- obje_isimi = sınıf_isimi(parametreler(opsiyonel))\n",
    "- özelliklere erişme \n",
    "- obje_ismi.ozellik_ismi"
   ]
  },
  {
   "cell_type": "code",
   "execution_count": 80,
   "metadata": {},
   "outputs": [
    {
     "name": "stdout",
     "output_type": "stream",
     "text": [
      "Ford\n",
      "Siyah\n",
      "140\n",
      "8\n"
     ]
    }
   ],
   "source": [
    "araba1 = araba()\n",
    "print(araba1.model)\n",
    "print(araba.renk)\n",
    "print(araba1.beygir)\n",
    "print(araba1.silindir)"
   ]
  },
  {
   "cell_type": "code",
   "execution_count": 81,
   "metadata": {},
   "outputs": [
    {
     "name": "stdout",
     "output_type": "stream",
     "text": [
      "bird\n"
     ]
    }
   ],
   "source": [
    "class animal :\n",
    "    name = \"bird\"\n",
    "    print(name)"
   ]
  },
  {
   "attachments": {},
   "cell_type": "markdown",
   "metadata": {},
   "source": [
    "### init()\n",
    "* Pythonda yapıcı(constructor) fonksiyon olarak tanımlanmaktadır. Bu metod objelerimiz oluşturulurken otomatik olarak ilk çağrılan fonksiyondur. Bu metodu özel olarak tanımlayarak öbjelerimizi farklı değerlerle oluşturabiliriz."
   ]
  },
  {
   "cell_type": "code",
   "execution_count": 82,
   "metadata": {},
   "outputs": [
    {
     "name": "stdout",
     "output_type": "stream",
     "text": [
      "init fonksiyonu çalıştı\n"
     ]
    }
   ],
   "source": [
    "class araba():\n",
    "    def __init__(self):\n",
    "        print(\"init fonksiyonu çalıştı\")\n",
    "\n",
    "car = araba()\n",
    "    "
   ]
  },
  {
   "attachments": {},
   "cell_type": "markdown",
   "metadata": {},
   "source": [
    "self anahtar kelimesi objeyi oluşturduğumuz zaman o objeyi gösteren bir referanstır ve metodlarımıza en başta bulunması gerekn parametredir."
   ]
  },
  {
   "cell_type": "code",
   "execution_count": 83,
   "metadata": {},
   "outputs": [],
   "source": [
    "class araba():\n",
    "    def __init__(self, model, renk, beygir, silindir):\n",
    "        self.model = model\n",
    "        self.renk = renk\n",
    "        self.beygir = beygir\n",
    "        self.silindir = silindir"
   ]
  },
  {
   "cell_type": "code",
   "execution_count": 84,
   "metadata": {},
   "outputs": [
    {
     "name": "stdout",
     "output_type": "stream",
     "text": [
      "mercedes\n"
     ]
    }
   ],
   "source": [
    "araba2 = araba(\"mercedes\", \"kırmızı\", 150, 8)\n",
    "print(araba2.model)"
   ]
  },
  {
   "attachments": {},
   "cell_type": "markdown",
   "metadata": {},
   "source": [
    "# Uygulama\n",
    "* Comment isminde bir sınıf oluşturunuz \n",
    "* comment sınıfı username, text, likes, dislikes isminde özelliklere sahip olsun\n",
    "* 5 adet farklı comment oluşturup döngü yardımıyla yorunları ekrana yazdıralım"
   ]
  },
  {
   "cell_type": "code",
   "execution_count": 87,
   "metadata": {},
   "outputs": [
    {
     "name": "stdout",
     "output_type": "stream",
     "text": [
      "Selçuk : futbol kaptanı yorumunu yapıp 70 like ve 0 dislike aldı \n",
      "Ayşe : lider yorumunu yapıp 80 like ve 8 dislike aldı \n",
      "Büşra : her şey güzel olacak yorumunu yapıp 100 like ve 5 dislike aldı \n",
      "Havva :  nerede o eski günler yorumunu yapıp 89 like ve 3 dislike aldı \n",
      "Mustafa : oyunculuğun da fena değilmiş yorumunu yapıp 98 like ve 2 dislike aldı \n"
     ]
    }
   ],
   "source": [
    "class Comment:\n",
    "    def __init__(self, username, text, likes, dislikes):\n",
    "        self.username = username\n",
    "        self.text = text\n",
    "        self.likes = likes\n",
    "        self.dislikes = dislikes\n",
    "    \n",
    "c1 = Comment(\"Selçuk\", \"futbol kaptanı\",70,0 )\n",
    "c2 = Comment(\"Ayşe\", \"lider\",80,8)\n",
    "c3 = Comment(\"Büşra\",\"her şey güzel olacak\",100, 5)\n",
    "c4 = Comment(\"Havva\", \" nerede o eski günler\", 89,3)\n",
    "c5 = Comment(\"Mustafa\", \"oyunculuğun da fena değilmiş\", 98, 2)\n",
    " \n",
    "comments = c1,c2,c3,c4,c5\n",
    "\n",
    "for c in comments:\n",
    "    print(f\"{c.username} : {c.text} yorumunu yapıp {c.likes} like ve {c.dislikes} dislike aldı \")"
   ]
  },
  {
   "cell_type": "code",
   "execution_count": 3,
   "metadata": {},
   "outputs": [],
   "source": [
    "def urun_kaydet():\n",
    "    urun_ad = input(\"Ürün adını girin: \")\n",
    "    urun_fiyat = input(\"Ürün fiyatını girin: \")\n",
    "    \n",
    "    with open(\"urunler.txt\", \"a\") as f:\n",
    "        f.write(f\"{urun_ad}, {urun_fiyat}\\n\")"
   ]
  },
  {
   "attachments": {},
   "cell_type": "markdown",
   "metadata": {},
   "source": [
    "# Methotlar"
   ]
  },
  {
   "cell_type": "code",
   "execution_count": 31,
   "metadata": {},
   "outputs": [],
   "source": [
    "class Yazilimci():\n",
    "    def __init__(self, isim, soyisim, maas, diller):\n",
    "        self.isim = isim\n",
    "        self.soyisim = soyisim\n",
    "        self.maas = maas\n",
    "        self.diller = diller\n",
    "\n",
    "\n",
    "    def bilgileri_goster(self):\n",
    "        print(f\"\"\"\n",
    "            Çalışan Bilgisi:\n",
    "         isim : {self.isim}\n",
    "         soyisim : {self.soyisim}\n",
    "         Maaş : {self.maas}\n",
    "         Bildiği Diller : {self.diller}\n",
    "           \"\"\")\n",
    "        \n",
    "    \n",
    "    def dil_ekle(self,yeni_dil):\n",
    "        print(\"Dil eklendi\")\n",
    "        self.diller.append(yeni_dil)\n",
    "\n",
    "    def maas_yukselt(self, zam):\n",
    "        print(\"Zam yapılıyor\")\n",
    "        self.maas += 500"
   ]
  },
  {
   "cell_type": "code",
   "execution_count": 33,
   "metadata": {},
   "outputs": [],
   "source": [
    "yazilimci = Yazilimci(\"Mustafa Alican\", \"Tanrıver\", 0 ,\"Python\" )"
   ]
  },
  {
   "cell_type": "code",
   "execution_count": 34,
   "metadata": {},
   "outputs": [
    {
     "name": "stdout",
     "output_type": "stream",
     "text": [
      "\n",
      "            Çalışan Bilgisi:\n",
      "         isim : Mustafa Alican\n",
      "         soyisim : Tanrıver\n",
      "         Maaş : 0\n",
      "         Bildiği Diller : Python\n",
      "           \n"
     ]
    }
   ],
   "source": [
    "yazilimci.bilgileri_goster()"
   ]
  },
  {
   "cell_type": "code",
   "execution_count": 35,
   "metadata": {},
   "outputs": [
    {
     "name": "stdout",
     "output_type": "stream",
     "text": [
      "Zam yapılıyor\n"
     ]
    }
   ],
   "source": [
    "yazilimci.maas_yukselt(500)"
   ]
  },
  {
   "cell_type": "code",
   "execution_count": 36,
   "metadata": {},
   "outputs": [
    {
     "name": "stdout",
     "output_type": "stream",
     "text": [
      "\n",
      "            Çalışan Bilgisi:\n",
      "         isim : Mustafa Alican\n",
      "         soyisim : Tanrıver\n",
      "         Maaş : 500\n",
      "         Bildiği Diller : Python\n",
      "           \n"
     ]
    }
   ],
   "source": [
    "yazilimci.bilgileri_goster()"
   ]
  },
  {
   "cell_type": "code",
   "execution_count": 39,
   "metadata": {},
   "outputs": [
    {
     "name": "stdout",
     "output_type": "stream",
     "text": [
      "Dil eklendi\n"
     ]
    },
    {
     "ename": "AttributeError",
     "evalue": "'str' object has no attribute 'append'",
     "output_type": "error",
     "traceback": [
      "\u001b[1;31m---------------------------------------------------------------------------\u001b[0m",
      "\u001b[1;31mAttributeError\u001b[0m                            Traceback (most recent call last)",
      "Cell \u001b[1;32mIn[39], line 1\u001b[0m\n\u001b[1;32m----> 1\u001b[0m yazilimci\u001b[39m.\u001b[39;49mdil_ekle(\u001b[39m\"\u001b[39;49m\u001b[39mc##\u001b[39;49m\u001b[39m\"\u001b[39;49m) \u001b[39m# hatayı sor\u001b[39;00m\n",
      "Cell \u001b[1;32mIn[31], line 21\u001b[0m, in \u001b[0;36mYazilimci.dil_ekle\u001b[1;34m(self, yeni_dil)\u001b[0m\n\u001b[0;32m     19\u001b[0m \u001b[39mdef\u001b[39;00m \u001b[39mdil_ekle\u001b[39m(\u001b[39mself\u001b[39m,yeni_dil):\n\u001b[0;32m     20\u001b[0m     \u001b[39mprint\u001b[39m(\u001b[39m\"\u001b[39m\u001b[39mDil eklendi\u001b[39m\u001b[39m\"\u001b[39m)\n\u001b[1;32m---> 21\u001b[0m     \u001b[39mself\u001b[39;49m\u001b[39m.\u001b[39;49mdiller\u001b[39m.\u001b[39;49mappend()\n",
      "\u001b[1;31mAttributeError\u001b[0m: 'str' object has no attribute 'append'"
     ]
    }
   ],
   "source": [
    "yazilimci.dil_ekle(\"c##\") # hatayı sor"
   ]
  },
  {
   "attachments": {},
   "cell_type": "markdown",
   "metadata": {},
   "source": [
    "# Inheritance\n",
    "\n",
    "* Bu konsepti aslında bizim kendi anne babamızdan değişik özellikleri ve davranışları miras almamıza benzetebiliriz.\n",
    "* Bir sınıfın özelliklerinin ve metotlarının başka sınıflara aktarılarak işlevinin artırılmasını sağlar.\n",
    "* Mesela öğrenci ve öğretmeni düşündüğümüz zaman öğrencinin adı, soyadı, adresi, cinsiyeti ve numarası vardır. Öğretmeninse ad,\n",
    "soyadı adres, cinsiyet ve branşı vardır. Bunun yerine kisi sınıfı oluşturup ad, soyadı adres ve cinsiyet tutulur.\n",
    "* Öğrenci ve öğretmen classında ise öğrenciye veya öğretmene özgü özellikler ve metotlar tutulur.\n",
    "* super() en genel anlamıyla miras aldığımız sınıfın metodlarını alt sınıflardan kullanmamızı sağlar\n",
    "* super().init() metodu çalışırken sınıfın özelliklerini ve metotlarını kullanır.\n",
    "* Base Class ana sınıftır.\n",
    "* Sub Class base class'ının özelliklerini ve metotlarını kullanır."
   ]
  },
  {
   "cell_type": "markdown",
   "metadata": {},
   "source": []
  },
  {
   "attachments": {},
   "cell_type": "markdown",
   "metadata": {},
   "source": [
    "### Magic Commands"
   ]
  },
  {
   "cell_type": "code",
   "execution_count": 4,
   "metadata": {},
   "outputs": [
    {
     "name": "stdout",
     "output_type": "stream",
     "text": [
      " Volume in drive C has no label.\n",
      " Volume Serial Number is AA98-9CD3\n",
      "\n",
      " Directory of c:\\Users\\AGU\\Desktop\\YetGen Core Python\\8.HAFTA\n",
      "\n",
      "15.04.2023  22:09    <DIR>          .\n",
      "15.04.2023  22:09    <DIR>          ..\n",
      "11.04.2023  17:33    <DIR>          8.Hafta E�itim �ncesi G�revler\n",
      "11.04.2023  17:27    <DIR>          8.Hafta E�itim Sonras� G�revler\n",
      "14.04.2023  15:12            15,565 8.notlar�m.ipynb\n",
      "11.04.2023  06:57                47 bilgiler.txt\n",
      "15.04.2023  22:09                 0 urunler.txt\n",
      "               3 File(s)         15,612 bytes\n",
      "               4 Dir(s)  142,560,358,400 bytes free\n"
     ]
    }
   ],
   "source": [
    "%ls"
   ]
  },
  {
   "cell_type": "code",
   "execution_count": 5,
   "metadata": {},
   "outputs": [
    {
     "data": {
      "text/plain": [
       "'c:\\\\Users\\\\AGU\\\\Desktop\\\\YetGen Core Python\\\\8.HAFTA'"
      ]
     },
     "execution_count": 5,
     "metadata": {},
     "output_type": "execute_result"
    }
   ],
   "source": [
    "%pwd"
   ]
  },
  {
   "attachments": {},
   "cell_type": "markdown",
   "metadata": {},
   "source": [
    "## OS Modulü"
   ]
  },
  {
   "attachments": {},
   "cell_type": "markdown",
   "metadata": {},
   "source": [
    "### Navigasyon ve İçerik Listeleme"
   ]
  },
  {
   "cell_type": "code",
   "execution_count": null,
   "metadata": {},
   "outputs": [],
   "source": []
  }
 ],
 "metadata": {
  "kernelspec": {
   "display_name": "Python 3",
   "language": "python",
   "name": "python3"
  },
  "language_info": {
   "codemirror_mode": {
    "name": "ipython",
    "version": 3
   },
   "file_extension": ".py",
   "mimetype": "text/x-python",
   "name": "python",
   "nbconvert_exporter": "python",
   "pygments_lexer": "ipython3",
   "version": "3.11.3"
  },
  "orig_nbformat": 4,
  "vscode": {
   "interpreter": {
    "hash": "374ddb0e816bbdb7905dbdcb0cbdd6843f20e51e72b6733222a5318afa7ede93"
   }
  }
 },
 "nbformat": 4,
 "nbformat_minor": 2
}
