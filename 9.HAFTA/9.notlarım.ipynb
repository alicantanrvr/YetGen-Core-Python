{
 "cells": [
  {
   "attachments": {},
   "cell_type": "markdown",
   "metadata": {},
   "source": [
    "# Methotlar"
   ]
  },
  {
   "cell_type": "code",
   "execution_count": 14,
   "metadata": {},
   "outputs": [],
   "source": [
    "class Yazilimci():\n",
    "    def __init__(self, isim, soyisim, maas, diller):\n",
    "        self.isim = isim\n",
    "        self.soyisim = soyisim\n",
    "        self.maas = maas\n",
    "        self.diller = diller\n",
    "\n",
    "\n",
    "    def bilgileri_goster(self):\n",
    "        print(f\"\"\"\n",
    "            Çalışan Bilgisi:\n",
    "         isim : {self.isim}\n",
    "         soyisim : {self.soyisim}\n",
    "         Maaş : {self.maas}\n",
    "         Bildiği Diller : {self.diller}\n",
    "           \"\"\")\n",
    "        \n",
    "    \n",
    "    def dil_ekle(self, yeni_dil):\n",
    "        print(\"Dil eklendi\")\n",
    "        self.diller.append(yeni_dil)\n",
    "\n",
    "    def maas_yukselt(self, zam):\n",
    "        print(\"Zam yapılıyor\")\n",
    "        self.maas += 500\n"
   ]
  },
  {
   "cell_type": "code",
   "execution_count": 24,
   "metadata": {},
   "outputs": [],
   "source": [
    "yazilimci = Yazilimci(\"Mustafa Alican\", \"Tanrıver\", 0 ,\"Python\" )"
   ]
  },
  {
   "cell_type": "code",
   "execution_count": 25,
   "metadata": {},
   "outputs": [
    {
     "name": "stdout",
     "output_type": "stream",
     "text": [
      "\n",
      "            Çalışan Bilgisi:\n",
      "         isim : Mustafa Alican\n",
      "         soyisim : Tanrıver\n",
      "         Maaş : 0\n",
      "         Bildiği Diller : Python\n",
      "           \n"
     ]
    }
   ],
   "source": [
    "yazilimci.bilgileri_goster()"
   ]
  },
  {
   "cell_type": "code",
   "execution_count": 17,
   "metadata": {},
   "outputs": [
    {
     "name": "stdout",
     "output_type": "stream",
     "text": [
      "Zam yapılıyor\n"
     ]
    }
   ],
   "source": [
    "yazilimci.maas_yukselt(500)"
   ]
  },
  {
   "cell_type": "code",
   "execution_count": 18,
   "metadata": {},
   "outputs": [
    {
     "name": "stdout",
     "output_type": "stream",
     "text": [
      "\n",
      "            Çalışan Bilgisi:\n",
      "         isim : Mustafa Alican\n",
      "         soyisim : Tanrıver\n",
      "         Maaş : 500\n",
      "         Bildiği Diller : Python\n",
      "           \n"
     ]
    }
   ],
   "source": [
    "yazilimci.bilgileri_goster()"
   ]
  },
  {
   "cell_type": "code",
   "execution_count": 27,
   "metadata": {},
   "outputs": [
    {
     "name": "stdout",
     "output_type": "stream",
     "text": [
      "Dil eklendi\n"
     ]
    },
    {
     "ename": "AttributeError",
     "evalue": "'str' object has no attribute 'append'",
     "output_type": "error",
     "traceback": [
      "\u001b[1;31m---------------------------------------------------------------------------\u001b[0m",
      "\u001b[1;31mAttributeError\u001b[0m                            Traceback (most recent call last)",
      "Cell \u001b[1;32mIn[27], line 1\u001b[0m\n\u001b[1;32m----> 1\u001b[0m yazilimci\u001b[39m.\u001b[39;49mdil_ekle(\u001b[39m\"\u001b[39;49m\u001b[39mC++\u001b[39;49m\u001b[39m\"\u001b[39;49m) \n",
      "Cell \u001b[1;32mIn[14], line 21\u001b[0m, in \u001b[0;36mYazilimci.dil_ekle\u001b[1;34m(self, yeni_dil)\u001b[0m\n\u001b[0;32m     19\u001b[0m \u001b[39mdef\u001b[39;00m \u001b[39mdil_ekle\u001b[39m(\u001b[39mself\u001b[39m, yeni_dil):\n\u001b[0;32m     20\u001b[0m     \u001b[39mprint\u001b[39m(\u001b[39m\"\u001b[39m\u001b[39mDil eklendi\u001b[39m\u001b[39m\"\u001b[39m)\n\u001b[1;32m---> 21\u001b[0m     \u001b[39mself\u001b[39;49m\u001b[39m.\u001b[39;49mdiller\u001b[39m.\u001b[39;49mappend(yeni_dil)\n",
      "\u001b[1;31mAttributeError\u001b[0m: 'str' object has no attribute 'append'"
     ]
    }
   ],
   "source": [
    "yazilimci.dil_ekle(\"C++\") "
   ]
  },
  {
   "cell_type": "code",
   "execution_count": 21,
   "metadata": {},
   "outputs": [
    {
     "name": "stdout",
     "output_type": "stream",
     "text": [
      "\n",
      "            Çalışan Bilgisi:\n",
      "         isim : Mustafa Alican\n",
      "         soyisim : Tanrıver\n",
      "         Maaş : 500\n",
      "         Bildiği Diller : Python\n",
      "           \n"
     ]
    }
   ],
   "source": [
    "yazilimci.bilgileri_goster()"
   ]
  },
  {
   "attachments": {},
   "cell_type": "markdown",
   "metadata": {},
   "source": [
    "# Inheritance\n",
    "\n",
    "* Bu konsepti aslında bizim kendi anne babamızdan değişik özellikleri ve davranışları miras almamıza benzetebiliriz.\n",
    "* Bir sınıfın özelliklerinin ve metotlarının başka sınıflara aktarılarak işlevinin artırılmasını sağlar.\n",
    "* Mesela öğrenci ve öğretmeni düşündüğümüz zaman öğrencinin adı, soyadı, adresi, cinsiyeti ve numarası vardır. Öğretmeninse ad,\n",
    "soyadı adres, cinsiyet ve branşı vardır. Bunun yerine kisi sınıfı oluşturup ad, soyadı adres ve cinsiyet tutulur.\n",
    "* Öğrenci ve öğretmen classında ise öğrenciye veya öğretmene özgü özellikler ve metotlar tutulur.\n",
    "* super() en genel anlamıyla miras aldığımız sınıfın metodlarını alt sınıflardan kullanmamızı sağlar\n",
    "* super().init() metodu çalışırken sınıfın özelliklerini ve metotlarını kullanır.\n",
    "* Base Class ana sınıftır.\n",
    "* Sub Class base class'ının özelliklerini ve metotlarını kullanır."
   ]
  },
  {
   "cell_type": "code",
   "execution_count": 11,
   "metadata": {},
   "outputs": [],
   "source": [
    "class Person():\n",
    "    \n",
    "    def __init__(self, name, surname, age):\n",
    "        self.name = name\n",
    "        self.surname = surname\n",
    "        self.age = age\n",
    "        print(\"Person nesnesi türetildi\")\n",
    "    \n",
    "    def intro(self):\n",
    "        print(self.name, self.surname, self.age)\n",
    "\n",
    "class Student(Person):\n",
    "    \n",
    "    def __init__(self, name, surname, age, number):\n",
    "        super().__init__(name, surname, age)\n",
    "        self.number = number\n",
    "        print(\"Student nesnesi çalıştı\")\n",
    "    \n",
    "    def intro(self):\n",
    "        print(self.number, self.surname, self.age, self.number)\n",
    "    \n",
    "    def study(self):\n",
    "        print(f\"{self.name} isimli öğrenci ders çalışıyor\")\n",
    "\n",
    "class Teacher(Person):\n",
    "    \n",
    "    def __init__(self, name, surname, age, branch):\n",
    "        super().__init__(name, surname, age)\n",
    "        self.branch = branch\n",
    "        print(\"Teacher nesnesi çslıştı\")\n",
    "\n",
    "    def intro(self):\n",
    "        print(f\"{self.name} isimli öğrentmenin branşı {self.branch}'dir.\")\n"
   ]
  },
  {
   "cell_type": "code",
   "execution_count": 12,
   "metadata": {},
   "outputs": [
    {
     "name": "stdout",
     "output_type": "stream",
     "text": [
      "Person nesnesi türetildi\n",
      "Ali Tertip 27\n"
     ]
    }
   ],
   "source": [
    "p1 = Person(\"Ali\", \"Tertip\", 27)\n",
    "p1.intro()"
   ]
  },
  {
   "cell_type": "code",
   "execution_count": 13,
   "metadata": {},
   "outputs": [
    {
     "name": "stdout",
     "output_type": "stream",
     "text": [
      "Person nesnesi türetildi\n",
      "Student nesnesi çalıştı\n",
      "221133 Ser 16 221133\n",
      "Ayşe isimli öğrenci ders çalışıyor\n"
     ]
    }
   ],
   "source": [
    "s1 = Student(\"Ayşe\", \"Ser\", 16, 221133)\n",
    "s1.intro()\n",
    "s1.study()"
   ]
  },
  {
   "cell_type": "code",
   "execution_count": 14,
   "metadata": {},
   "outputs": [
    {
     "name": "stdout",
     "output_type": "stream",
     "text": [
      "Person nesnesi türetildi\n",
      "Teacher nesnesi çslıştı\n",
      "Evrim isimli öğrentmenin branşı Fen Bilimleri'dir.\n"
     ]
    }
   ],
   "source": [
    "t1 = Teacher(\"Evrim\", \"Tanba\", 39, \"Fen Bilimleri\")\n",
    "t1.intro()"
   ]
  }
 ],
 "metadata": {
  "kernelspec": {
   "display_name": "Python 3",
   "language": "python",
   "name": "python3"
  },
  "language_info": {
   "codemirror_mode": {
    "name": "ipython",
    "version": 3
   },
   "file_extension": ".py",
   "mimetype": "text/x-python",
   "name": "python",
   "nbconvert_exporter": "python",
   "pygments_lexer": "ipython3",
   "version": "3.11.3"
  },
  "orig_nbformat": 4
 },
 "nbformat": 4,
 "nbformat_minor": 2
}
